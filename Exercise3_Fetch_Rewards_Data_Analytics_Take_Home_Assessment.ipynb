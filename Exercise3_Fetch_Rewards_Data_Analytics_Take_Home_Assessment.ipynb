{
  "nbformat": 4,
  "nbformat_minor": 0,
  "metadata": {
    "colab": {
      "provenance": [],
      "authorship_tag": "ABX9TyP4Us4MKuI3yS9/CIpl2173",
      "include_colab_link": true
    },
    "kernelspec": {
      "name": "python3",
      "display_name": "Python 3"
    },
    "language_info": {
      "name": "python"
    }
  },
  "cells": [
    {
      "cell_type": "markdown",
      "metadata": {
        "id": "view-in-github",
        "colab_type": "text"
      },
      "source": [
        "<a href=\"https://colab.research.google.com/github/Venkat3103/Fetch_Rewards_Data_Analytics_Internship/blob/main/Exercise3_Fetch_Rewards_Data_Analytics_Take_Home_Assessment.ipynb\" target=\"_parent\"><img src=\"https://colab.research.google.com/assets/colab-badge.svg\" alt=\"Open In Colab\"/></a>"
      ]
    },
    {
      "cell_type": "markdown",
      "source": [
        "Venkatasubramanian Narasimman - MS in Information Management at UIUC"
      ],
      "metadata": {
        "id": "PBWeEsqo-d5Q"
      }
    },
    {
      "cell_type": "markdown",
      "source": [
        "# Fetch Rewards Data Analytics Internship - Exercise 3 - Communicating to non technical stakeholders"
      ],
      "metadata": {
        "id": "uVRx6cRa-SgW"
      }
    },
    {
      "cell_type": "markdown",
      "source": [
        "Contents: EDA, Data quality, Formatting, and a Case Study on Starbucks."
      ],
      "metadata": {
        "id": "eUS2Oy1mdTV-"
      }
    },
    {
      "cell_type": "markdown",
      "source": [
        "##Importing datasets"
      ],
      "metadata": {
        "id": "n3ZXTc8I-pe2"
      }
    },
    {
      "cell_type": "code",
      "execution_count": 155,
      "metadata": {
        "id": "kFY-03K30bJk"
      },
      "outputs": [],
      "source": [
        "import pandas as pd"
      ]
    },
    {
      "cell_type": "code",
      "source": [
        "brands = pd.read_csv(\"/content/brands.csv\")\n",
        "receipt_items = pd.read_csv(\"/content/receipt_items.csv\")\n",
        "receipts = pd.read_csv(\"/content/receipts.csv\")\n",
        "users = pd.read_csv(\"/content/users.csv\")"
      ],
      "metadata": {
        "id": "4ELepbrt0kus"
      },
      "execution_count": 156,
      "outputs": []
    },
    {
      "cell_type": "markdown",
      "source": [
        "##Exploratory Data Analysis\n",
        "Understanding data formats to check and improve data quality"
      ],
      "metadata": {
        "id": "Kb8czH4j90g1"
      }
    },
    {
      "cell_type": "code",
      "source": [
        "brands.head(5)"
      ],
      "metadata": {
        "colab": {
          "base_uri": "https://localhost:8080/",
          "height": 391
        },
        "id": "dfDe6wnIAb-Q",
        "outputId": "c93ec91e-0093-4bbc-de36-53bff4af5cb8"
      },
      "execution_count": 157,
      "outputs": [
        {
          "output_type": "execute_result",
          "data": {
            "text/plain": [
              "                         ID       BARCODE              BRAND_CODE  \\\n",
              "0  5a8c35dde4b0ccf165fac9e6  511111904175         PEPPERIDGE FARM   \n",
              "1  6234af8f4e09b6067c237adb  511111212997                CHEX MIX   \n",
              "2  5332f7d3e4b03c9a25efd14e  511111803393                     NaN   \n",
              "3  5d6412e9a3a018514994f426  511111304982  BETTER HOMES & GARDENS   \n",
              "4  621e777eacedc065cefa99a7  511111912859                  TRUVIA   \n",
              "\n",
              "                     CPG_ID   CATEGORY CATEGORY_CODE  \\\n",
              "0  5a734034e4b0d58f376be874    Grocery       GROCERY   \n",
              "1  6233966e8942a67af4934aa1     Snacks        SNACKS   \n",
              "2  5332f5f2e4b03c9a25efd0aa     Snacks        SNACKS   \n",
              "3  53e10d6368abd3c7065097cc  Magazines     MAGAZINES   \n",
              "4  621e7754d759b10969cbcc08     Baking        BAKING   \n",
              "\n",
              "                              NAME  \\\n",
              "0                  Pepperidge Farm   \n",
              "1                         CHEX MIX   \n",
              "2                         Cheez-It   \n",
              "3  Better Homes & Gardens Magazine   \n",
              "4                          Truvia®   \n",
              "\n",
              "                                        ROMANCE_TEXT  \\\n",
              "0  Pepperidge Farm has been making exceptional co...   \n",
              "1                                                NaN   \n",
              "2                                                NaN   \n",
              "3  Better Homes & Gardens offers beautiful photog...   \n",
              "4                                                NaN   \n",
              "\n",
              "                                   RELATED_BRAND_IDS  \n",
              "0                                                NaN  \n",
              "1                                                NaN  \n",
              "2                                                NaN  \n",
              "3  5d6413156d5f3b23d1bc790a : 5d6417dda3a01851499...  \n",
              "4                                                NaN  "
            ],
            "text/html": [
              "\n",
              "  <div id=\"df-42c099d5-09cc-4805-afae-e75fde7f6e63\">\n",
              "    <div class=\"colab-df-container\">\n",
              "      <div>\n",
              "<style scoped>\n",
              "    .dataframe tbody tr th:only-of-type {\n",
              "        vertical-align: middle;\n",
              "    }\n",
              "\n",
              "    .dataframe tbody tr th {\n",
              "        vertical-align: top;\n",
              "    }\n",
              "\n",
              "    .dataframe thead th {\n",
              "        text-align: right;\n",
              "    }\n",
              "</style>\n",
              "<table border=\"1\" class=\"dataframe\">\n",
              "  <thead>\n",
              "    <tr style=\"text-align: right;\">\n",
              "      <th></th>\n",
              "      <th>ID</th>\n",
              "      <th>BARCODE</th>\n",
              "      <th>BRAND_CODE</th>\n",
              "      <th>CPG_ID</th>\n",
              "      <th>CATEGORY</th>\n",
              "      <th>CATEGORY_CODE</th>\n",
              "      <th>NAME</th>\n",
              "      <th>ROMANCE_TEXT</th>\n",
              "      <th>RELATED_BRAND_IDS</th>\n",
              "    </tr>\n",
              "  </thead>\n",
              "  <tbody>\n",
              "    <tr>\n",
              "      <th>0</th>\n",
              "      <td>5a8c35dde4b0ccf165fac9e6</td>\n",
              "      <td>511111904175</td>\n",
              "      <td>PEPPERIDGE FARM</td>\n",
              "      <td>5a734034e4b0d58f376be874</td>\n",
              "      <td>Grocery</td>\n",
              "      <td>GROCERY</td>\n",
              "      <td>Pepperidge Farm</td>\n",
              "      <td>Pepperidge Farm has been making exceptional co...</td>\n",
              "      <td>NaN</td>\n",
              "    </tr>\n",
              "    <tr>\n",
              "      <th>1</th>\n",
              "      <td>6234af8f4e09b6067c237adb</td>\n",
              "      <td>511111212997</td>\n",
              "      <td>CHEX MIX</td>\n",
              "      <td>6233966e8942a67af4934aa1</td>\n",
              "      <td>Snacks</td>\n",
              "      <td>SNACKS</td>\n",
              "      <td>CHEX MIX</td>\n",
              "      <td>NaN</td>\n",
              "      <td>NaN</td>\n",
              "    </tr>\n",
              "    <tr>\n",
              "      <th>2</th>\n",
              "      <td>5332f7d3e4b03c9a25efd14e</td>\n",
              "      <td>511111803393</td>\n",
              "      <td>NaN</td>\n",
              "      <td>5332f5f2e4b03c9a25efd0aa</td>\n",
              "      <td>Snacks</td>\n",
              "      <td>SNACKS</td>\n",
              "      <td>Cheez-It</td>\n",
              "      <td>NaN</td>\n",
              "      <td>NaN</td>\n",
              "    </tr>\n",
              "    <tr>\n",
              "      <th>3</th>\n",
              "      <td>5d6412e9a3a018514994f426</td>\n",
              "      <td>511111304982</td>\n",
              "      <td>BETTER HOMES &amp; GARDENS</td>\n",
              "      <td>53e10d6368abd3c7065097cc</td>\n",
              "      <td>Magazines</td>\n",
              "      <td>MAGAZINES</td>\n",
              "      <td>Better Homes &amp; Gardens Magazine</td>\n",
              "      <td>Better Homes &amp; Gardens offers beautiful photog...</td>\n",
              "      <td>5d6413156d5f3b23d1bc790a : 5d6417dda3a01851499...</td>\n",
              "    </tr>\n",
              "    <tr>\n",
              "      <th>4</th>\n",
              "      <td>621e777eacedc065cefa99a7</td>\n",
              "      <td>511111912859</td>\n",
              "      <td>TRUVIA</td>\n",
              "      <td>621e7754d759b10969cbcc08</td>\n",
              "      <td>Baking</td>\n",
              "      <td>BAKING</td>\n",
              "      <td>Truvia®</td>\n",
              "      <td>NaN</td>\n",
              "      <td>NaN</td>\n",
              "    </tr>\n",
              "  </tbody>\n",
              "</table>\n",
              "</div>\n",
              "      <button class=\"colab-df-convert\" onclick=\"convertToInteractive('df-42c099d5-09cc-4805-afae-e75fde7f6e63')\"\n",
              "              title=\"Convert this dataframe to an interactive table.\"\n",
              "              style=\"display:none;\">\n",
              "        \n",
              "  <svg xmlns=\"http://www.w3.org/2000/svg\" height=\"24px\"viewBox=\"0 0 24 24\"\n",
              "       width=\"24px\">\n",
              "    <path d=\"M0 0h24v24H0V0z\" fill=\"none\"/>\n",
              "    <path d=\"M18.56 5.44l.94 2.06.94-2.06 2.06-.94-2.06-.94-.94-2.06-.94 2.06-2.06.94zm-11 1L8.5 8.5l.94-2.06 2.06-.94-2.06-.94L8.5 2.5l-.94 2.06-2.06.94zm10 10l.94 2.06.94-2.06 2.06-.94-2.06-.94-.94-2.06-.94 2.06-2.06.94z\"/><path d=\"M17.41 7.96l-1.37-1.37c-.4-.4-.92-.59-1.43-.59-.52 0-1.04.2-1.43.59L10.3 9.45l-7.72 7.72c-.78.78-.78 2.05 0 2.83L4 21.41c.39.39.9.59 1.41.59.51 0 1.02-.2 1.41-.59l7.78-7.78 2.81-2.81c.8-.78.8-2.07 0-2.86zM5.41 20L4 18.59l7.72-7.72 1.47 1.35L5.41 20z\"/>\n",
              "  </svg>\n",
              "      </button>\n",
              "      \n",
              "  <style>\n",
              "    .colab-df-container {\n",
              "      display:flex;\n",
              "      flex-wrap:wrap;\n",
              "      gap: 12px;\n",
              "    }\n",
              "\n",
              "    .colab-df-convert {\n",
              "      background-color: #E8F0FE;\n",
              "      border: none;\n",
              "      border-radius: 50%;\n",
              "      cursor: pointer;\n",
              "      display: none;\n",
              "      fill: #1967D2;\n",
              "      height: 32px;\n",
              "      padding: 0 0 0 0;\n",
              "      width: 32px;\n",
              "    }\n",
              "\n",
              "    .colab-df-convert:hover {\n",
              "      background-color: #E2EBFA;\n",
              "      box-shadow: 0px 1px 2px rgba(60, 64, 67, 0.3), 0px 1px 3px 1px rgba(60, 64, 67, 0.15);\n",
              "      fill: #174EA6;\n",
              "    }\n",
              "\n",
              "    [theme=dark] .colab-df-convert {\n",
              "      background-color: #3B4455;\n",
              "      fill: #D2E3FC;\n",
              "    }\n",
              "\n",
              "    [theme=dark] .colab-df-convert:hover {\n",
              "      background-color: #434B5C;\n",
              "      box-shadow: 0px 1px 3px 1px rgba(0, 0, 0, 0.15);\n",
              "      filter: drop-shadow(0px 1px 2px rgba(0, 0, 0, 0.3));\n",
              "      fill: #FFFFFF;\n",
              "    }\n",
              "  </style>\n",
              "\n",
              "      <script>\n",
              "        const buttonEl =\n",
              "          document.querySelector('#df-42c099d5-09cc-4805-afae-e75fde7f6e63 button.colab-df-convert');\n",
              "        buttonEl.style.display =\n",
              "          google.colab.kernel.accessAllowed ? 'block' : 'none';\n",
              "\n",
              "        async function convertToInteractive(key) {\n",
              "          const element = document.querySelector('#df-42c099d5-09cc-4805-afae-e75fde7f6e63');\n",
              "          const dataTable =\n",
              "            await google.colab.kernel.invokeFunction('convertToInteractive',\n",
              "                                                     [key], {});\n",
              "          if (!dataTable) return;\n",
              "\n",
              "          const docLinkHtml = 'Like what you see? Visit the ' +\n",
              "            '<a target=\"_blank\" href=https://colab.research.google.com/notebooks/data_table.ipynb>data table notebook</a>'\n",
              "            + ' to learn more about interactive tables.';\n",
              "          element.innerHTML = '';\n",
              "          dataTable['output_type'] = 'display_data';\n",
              "          await google.colab.output.renderOutput(dataTable, element);\n",
              "          const docLink = document.createElement('div');\n",
              "          docLink.innerHTML = docLinkHtml;\n",
              "          element.appendChild(docLink);\n",
              "        }\n",
              "      </script>\n",
              "    </div>\n",
              "  </div>\n",
              "  "
            ]
          },
          "metadata": {},
          "execution_count": 157
        }
      ]
    },
    {
      "cell_type": "code",
      "source": [
        "brands.dtypes"
      ],
      "metadata": {
        "colab": {
          "base_uri": "https://localhost:8080/"
        },
        "id": "CTtJGrpp93dC",
        "outputId": "b4ca411f-2a97-48d7-85a0-d0f6e7f7d9d2"
      },
      "execution_count": 158,
      "outputs": [
        {
          "output_type": "execute_result",
          "data": {
            "text/plain": [
              "ID                   object\n",
              "BARCODE               int64\n",
              "BRAND_CODE           object\n",
              "CPG_ID               object\n",
              "CATEGORY             object\n",
              "CATEGORY_CODE        object\n",
              "NAME                 object\n",
              "ROMANCE_TEXT         object\n",
              "RELATED_BRAND_IDS    object\n",
              "dtype: object"
            ]
          },
          "metadata": {},
          "execution_count": 158
        }
      ]
    },
    {
      "cell_type": "code",
      "source": [
        "brands.isna().sum()"
      ],
      "metadata": {
        "colab": {
          "base_uri": "https://localhost:8080/"
        },
        "id": "ZPGv1eTEAjiI",
        "outputId": "249f5b34-2d86-405f-bf27-ea5554f67258"
      },
      "execution_count": 159,
      "outputs": [
        {
          "output_type": "execute_result",
          "data": {
            "text/plain": [
              "ID                     0\n",
              "BARCODE                0\n",
              "BRAND_CODE            25\n",
              "CPG_ID                 0\n",
              "CATEGORY              27\n",
              "CATEGORY_CODE         31\n",
              "NAME                   0\n",
              "ROMANCE_TEXT         103\n",
              "RELATED_BRAND_IDS    243\n",
              "dtype: int64"
            ]
          },
          "metadata": {},
          "execution_count": 159
        }
      ]
    },
    {
      "cell_type": "code",
      "source": [
        "users.head(5)"
      ],
      "metadata": {
        "colab": {
          "base_uri": "https://localhost:8080/",
          "height": 336
        },
        "id": "TJ1h11v3Ayuk",
        "outputId": "0a7a993a-0874-4b19-fa60-e53d8f066bdc"
      },
      "execution_count": 160,
      "outputs": [
        {
          "output_type": "execute_result",
          "data": {
            "text/plain": [
              "               CREATED_DATE            BIRTH_DATE             GENDER  \\\n",
              "0  2021-12-20T00:29:17.118Z  1984-03-20T00:00:00Z        transgender   \n",
              "1  2021-10-21T17:15:25.825Z  1987-08-08T05:00:00Z  prefer_not_to_say   \n",
              "2  2021-10-23T19:19:18.305Z  1995-06-18T05:00:00Z               male   \n",
              "3  2021-03-30T02:35:41.249Z  1999-08-23T07:00:00Z        transgender   \n",
              "4  2021-04-26T23:15:54.375Z  1992-10-28T16:16:23Z               male   \n",
              "\n",
              "     LAST_REWARDS_LOGIN STATE SIGN_UP_PLATFORM SIGN_UP_SOURCE  \\\n",
              "0  2023-01-04T16:32:15Z    FL              NaN          Apple   \n",
              "1  2023-01-04T16:04:33Z    PA          unknown         Google   \n",
              "2  2023-01-04T16:13:13Z    FL              NaN          Apple   \n",
              "3  2023-01-04T16:09:51Z    MI              ios         Google   \n",
              "4  2023-01-04T16:24:18Z    CA         andrioid          Email   \n",
              "\n",
              "                         ID  \n",
              "0  61bfce5d6655417f803b6538  \n",
              "1  6171a02d8034995a3d858fb3  \n",
              "2  617460366e2684498143e769  \n",
              "3  60628e7d85cdff011de41113  \n",
              "4  608749aac63a95130a45fbf4  "
            ],
            "text/html": [
              "\n",
              "  <div id=\"df-7bbc8780-f66e-4e5a-87ac-c37f190a6cf0\">\n",
              "    <div class=\"colab-df-container\">\n",
              "      <div>\n",
              "<style scoped>\n",
              "    .dataframe tbody tr th:only-of-type {\n",
              "        vertical-align: middle;\n",
              "    }\n",
              "\n",
              "    .dataframe tbody tr th {\n",
              "        vertical-align: top;\n",
              "    }\n",
              "\n",
              "    .dataframe thead th {\n",
              "        text-align: right;\n",
              "    }\n",
              "</style>\n",
              "<table border=\"1\" class=\"dataframe\">\n",
              "  <thead>\n",
              "    <tr style=\"text-align: right;\">\n",
              "      <th></th>\n",
              "      <th>CREATED_DATE</th>\n",
              "      <th>BIRTH_DATE</th>\n",
              "      <th>GENDER</th>\n",
              "      <th>LAST_REWARDS_LOGIN</th>\n",
              "      <th>STATE</th>\n",
              "      <th>SIGN_UP_PLATFORM</th>\n",
              "      <th>SIGN_UP_SOURCE</th>\n",
              "      <th>ID</th>\n",
              "    </tr>\n",
              "  </thead>\n",
              "  <tbody>\n",
              "    <tr>\n",
              "      <th>0</th>\n",
              "      <td>2021-12-20T00:29:17.118Z</td>\n",
              "      <td>1984-03-20T00:00:00Z</td>\n",
              "      <td>transgender</td>\n",
              "      <td>2023-01-04T16:32:15Z</td>\n",
              "      <td>FL</td>\n",
              "      <td>NaN</td>\n",
              "      <td>Apple</td>\n",
              "      <td>61bfce5d6655417f803b6538</td>\n",
              "    </tr>\n",
              "    <tr>\n",
              "      <th>1</th>\n",
              "      <td>2021-10-21T17:15:25.825Z</td>\n",
              "      <td>1987-08-08T05:00:00Z</td>\n",
              "      <td>prefer_not_to_say</td>\n",
              "      <td>2023-01-04T16:04:33Z</td>\n",
              "      <td>PA</td>\n",
              "      <td>unknown</td>\n",
              "      <td>Google</td>\n",
              "      <td>6171a02d8034995a3d858fb3</td>\n",
              "    </tr>\n",
              "    <tr>\n",
              "      <th>2</th>\n",
              "      <td>2021-10-23T19:19:18.305Z</td>\n",
              "      <td>1995-06-18T05:00:00Z</td>\n",
              "      <td>male</td>\n",
              "      <td>2023-01-04T16:13:13Z</td>\n",
              "      <td>FL</td>\n",
              "      <td>NaN</td>\n",
              "      <td>Apple</td>\n",
              "      <td>617460366e2684498143e769</td>\n",
              "    </tr>\n",
              "    <tr>\n",
              "      <th>3</th>\n",
              "      <td>2021-03-30T02:35:41.249Z</td>\n",
              "      <td>1999-08-23T07:00:00Z</td>\n",
              "      <td>transgender</td>\n",
              "      <td>2023-01-04T16:09:51Z</td>\n",
              "      <td>MI</td>\n",
              "      <td>ios</td>\n",
              "      <td>Google</td>\n",
              "      <td>60628e7d85cdff011de41113</td>\n",
              "    </tr>\n",
              "    <tr>\n",
              "      <th>4</th>\n",
              "      <td>2021-04-26T23:15:54.375Z</td>\n",
              "      <td>1992-10-28T16:16:23Z</td>\n",
              "      <td>male</td>\n",
              "      <td>2023-01-04T16:24:18Z</td>\n",
              "      <td>CA</td>\n",
              "      <td>andrioid</td>\n",
              "      <td>Email</td>\n",
              "      <td>608749aac63a95130a45fbf4</td>\n",
              "    </tr>\n",
              "  </tbody>\n",
              "</table>\n",
              "</div>\n",
              "      <button class=\"colab-df-convert\" onclick=\"convertToInteractive('df-7bbc8780-f66e-4e5a-87ac-c37f190a6cf0')\"\n",
              "              title=\"Convert this dataframe to an interactive table.\"\n",
              "              style=\"display:none;\">\n",
              "        \n",
              "  <svg xmlns=\"http://www.w3.org/2000/svg\" height=\"24px\"viewBox=\"0 0 24 24\"\n",
              "       width=\"24px\">\n",
              "    <path d=\"M0 0h24v24H0V0z\" fill=\"none\"/>\n",
              "    <path d=\"M18.56 5.44l.94 2.06.94-2.06 2.06-.94-2.06-.94-.94-2.06-.94 2.06-2.06.94zm-11 1L8.5 8.5l.94-2.06 2.06-.94-2.06-.94L8.5 2.5l-.94 2.06-2.06.94zm10 10l.94 2.06.94-2.06 2.06-.94-2.06-.94-.94-2.06-.94 2.06-2.06.94z\"/><path d=\"M17.41 7.96l-1.37-1.37c-.4-.4-.92-.59-1.43-.59-.52 0-1.04.2-1.43.59L10.3 9.45l-7.72 7.72c-.78.78-.78 2.05 0 2.83L4 21.41c.39.39.9.59 1.41.59.51 0 1.02-.2 1.41-.59l7.78-7.78 2.81-2.81c.8-.78.8-2.07 0-2.86zM5.41 20L4 18.59l7.72-7.72 1.47 1.35L5.41 20z\"/>\n",
              "  </svg>\n",
              "      </button>\n",
              "      \n",
              "  <style>\n",
              "    .colab-df-container {\n",
              "      display:flex;\n",
              "      flex-wrap:wrap;\n",
              "      gap: 12px;\n",
              "    }\n",
              "\n",
              "    .colab-df-convert {\n",
              "      background-color: #E8F0FE;\n",
              "      border: none;\n",
              "      border-radius: 50%;\n",
              "      cursor: pointer;\n",
              "      display: none;\n",
              "      fill: #1967D2;\n",
              "      height: 32px;\n",
              "      padding: 0 0 0 0;\n",
              "      width: 32px;\n",
              "    }\n",
              "\n",
              "    .colab-df-convert:hover {\n",
              "      background-color: #E2EBFA;\n",
              "      box-shadow: 0px 1px 2px rgba(60, 64, 67, 0.3), 0px 1px 3px 1px rgba(60, 64, 67, 0.15);\n",
              "      fill: #174EA6;\n",
              "    }\n",
              "\n",
              "    [theme=dark] .colab-df-convert {\n",
              "      background-color: #3B4455;\n",
              "      fill: #D2E3FC;\n",
              "    }\n",
              "\n",
              "    [theme=dark] .colab-df-convert:hover {\n",
              "      background-color: #434B5C;\n",
              "      box-shadow: 0px 1px 3px 1px rgba(0, 0, 0, 0.15);\n",
              "      filter: drop-shadow(0px 1px 2px rgba(0, 0, 0, 0.3));\n",
              "      fill: #FFFFFF;\n",
              "    }\n",
              "  </style>\n",
              "\n",
              "      <script>\n",
              "        const buttonEl =\n",
              "          document.querySelector('#df-7bbc8780-f66e-4e5a-87ac-c37f190a6cf0 button.colab-df-convert');\n",
              "        buttonEl.style.display =\n",
              "          google.colab.kernel.accessAllowed ? 'block' : 'none';\n",
              "\n",
              "        async function convertToInteractive(key) {\n",
              "          const element = document.querySelector('#df-7bbc8780-f66e-4e5a-87ac-c37f190a6cf0');\n",
              "          const dataTable =\n",
              "            await google.colab.kernel.invokeFunction('convertToInteractive',\n",
              "                                                     [key], {});\n",
              "          if (!dataTable) return;\n",
              "\n",
              "          const docLinkHtml = 'Like what you see? Visit the ' +\n",
              "            '<a target=\"_blank\" href=https://colab.research.google.com/notebooks/data_table.ipynb>data table notebook</a>'\n",
              "            + ' to learn more about interactive tables.';\n",
              "          element.innerHTML = '';\n",
              "          dataTable['output_type'] = 'display_data';\n",
              "          await google.colab.output.renderOutput(dataTable, element);\n",
              "          const docLink = document.createElement('div');\n",
              "          docLink.innerHTML = docLinkHtml;\n",
              "          element.appendChild(docLink);\n",
              "        }\n",
              "      </script>\n",
              "    </div>\n",
              "  </div>\n",
              "  "
            ]
          },
          "metadata": {},
          "execution_count": 160
        }
      ]
    },
    {
      "cell_type": "code",
      "source": [
        "users.dtypes"
      ],
      "metadata": {
        "colab": {
          "base_uri": "https://localhost:8080/"
        },
        "id": "o_AArGAw-PRr",
        "outputId": "66f8c96e-87dd-4e66-c5d0-cefb8024eea0"
      },
      "execution_count": 161,
      "outputs": [
        {
          "output_type": "execute_result",
          "data": {
            "text/plain": [
              "CREATED_DATE          object\n",
              "BIRTH_DATE            object\n",
              "GENDER                object\n",
              "LAST_REWARDS_LOGIN    object\n",
              "STATE                 object\n",
              "SIGN_UP_PLATFORM      object\n",
              "SIGN_UP_SOURCE        object\n",
              "ID                    object\n",
              "dtype: object"
            ]
          },
          "metadata": {},
          "execution_count": 161
        }
      ]
    },
    {
      "cell_type": "code",
      "source": [
        "users.isna().sum()"
      ],
      "metadata": {
        "colab": {
          "base_uri": "https://localhost:8080/"
        },
        "id": "FcMkBCJO-Pgm",
        "outputId": "14d87f22-f4d4-4dc3-80ab-d187998cf837"
      },
      "execution_count": 162,
      "outputs": [
        {
          "output_type": "execute_result",
          "data": {
            "text/plain": [
              "CREATED_DATE           0\n",
              "BIRTH_DATE             0\n",
              "GENDER                 0\n",
              "LAST_REWARDS_LOGIN     0\n",
              "STATE                  0\n",
              "SIGN_UP_PLATFORM      45\n",
              "SIGN_UP_SOURCE         0\n",
              "ID                     0\n",
              "dtype: int64"
            ]
          },
          "metadata": {},
          "execution_count": 162
        }
      ]
    },
    {
      "cell_type": "code",
      "source": [
        "receipts.head(5)"
      ],
      "metadata": {
        "colab": {
          "base_uri": "https://localhost:8080/",
          "height": 403
        },
        "outputId": "43c26c08-29ba-4b86-96f7-a78002681939",
        "id": "k5lYt2Q2A6Qa"
      },
      "execution_count": 163,
      "outputs": [
        {
          "output_type": "execute_result",
          "data": {
            "text/plain": [
              "                         ID           STORE_NAME         PURCHASE_DATE  \\\n",
              "0  62868f660a72546bef0b2dd0  TOWN OF ROCKY MOUNT  2022-05-19T00:00:00Z   \n",
              "1  6096b7370a7216d316001149                  NaN                   NaN   \n",
              "2  6269a4ea0a7241077408b6e1        FAMILY DOLLAR  2022-04-27T00:00:00Z   \n",
              "3  625b25e70a723eb9730d2c9c               PUBLIX  2022-04-15T00:00:00Z   \n",
              "4  60e3bd7e0a7215bd550fb8cc               COSTCO  2021-06-30T00:00:00Z   \n",
              "\n",
              "  PURCHASE_TIME              DATE_SCANNED  TOTAL_SPENT REWARDS_RECEIPT_STATUS  \\\n",
              "0       2:05 PM   2022-05-19T18:41:42.53Z       859.87               FINISHED   \n",
              "1           NaN   2021-05-08T16:07:19.03Z          NaN              SUBMITTED   \n",
              "2       4:15 PM   2022-04-27T20:17:46.09Z        11.00               FINISHED   \n",
              "3       4:45 PM  2022-04-16T20:24:07.259Z        10.67               FINISHED   \n",
              "4       1:16 PM  2021-07-06T02:18:38.495Z        61.90               FINISHED   \n",
              "\n",
              "                    USER_ID USER_VIEWED  PURCHASED_ITEM_COUNT  ...  \\\n",
              "0  61375682c625197c5db73602        True                   1.0  ...   \n",
              "1  60047e8a2d7db612a69d2e18        True                   NaN  ...   \n",
              "2  61578e96c2fb9321213720fc        True                   2.0  ...   \n",
              "3  6048de2ec9106b12d2b1ff61        True                   4.0  ...   \n",
              "4  6048de2ec9106b12d2b1ff61        True                  10.0  ...   \n",
              "\n",
              "               PENDING_DATE               MODIFY_DATE  \\\n",
              "0  2022-05-19T18:57:57.228Z  2022-05-22T11:20:57.998Z   \n",
              "1                       NaN   2021-05-08T16:07:19.03Z   \n",
              "2  2022-04-27T20:17:54.214Z  2022-04-27T20:17:55.521Z   \n",
              "3  2022-04-16T20:24:23.399Z  2022-04-16T20:24:24.064Z   \n",
              "4   2021-07-06T02:18:49.55Z  2021-07-06T02:18:51.906Z   \n",
              "\n",
              "               FLAGGED_DATE PROCESSED_DATE             FINISHED_DATE  \\\n",
              "0  2022-05-19T18:42:57.042Z            NaN  2022-05-19T18:57:57.336Z   \n",
              "1                       NaN            NaN                       NaN   \n",
              "2                       NaN            NaN  2022-04-27T20:17:54.394Z   \n",
              "3                       NaN            NaN  2022-04-16T20:24:23.598Z   \n",
              "4                       NaN            NaN  2021-07-06T02:18:50.283Z   \n",
              "\n",
              "  REJECTED_DATE NEEDS_FETCH_REVIEW DIGITAL_RECEIPT  DELETED  \\\n",
              "0           NaN                NaN           False      NaN   \n",
              "1           NaN                NaN           False      NaN   \n",
              "2           NaN                NaN           False      NaN   \n",
              "3           NaN                NaN           False      NaN   \n",
              "4           NaN                NaN           False      NaN   \n",
              "\n",
              "  NON_POINT_EARNING_RECEIPT  \n",
              "0                      True  \n",
              "1                       NaN  \n",
              "2                     False  \n",
              "3                     False  \n",
              "4                     False  \n",
              "\n",
              "[5 rows x 21 columns]"
            ],
            "text/html": [
              "\n",
              "  <div id=\"df-0709ce79-32db-469d-bc09-467d8b285a8d\">\n",
              "    <div class=\"colab-df-container\">\n",
              "      <div>\n",
              "<style scoped>\n",
              "    .dataframe tbody tr th:only-of-type {\n",
              "        vertical-align: middle;\n",
              "    }\n",
              "\n",
              "    .dataframe tbody tr th {\n",
              "        vertical-align: top;\n",
              "    }\n",
              "\n",
              "    .dataframe thead th {\n",
              "        text-align: right;\n",
              "    }\n",
              "</style>\n",
              "<table border=\"1\" class=\"dataframe\">\n",
              "  <thead>\n",
              "    <tr style=\"text-align: right;\">\n",
              "      <th></th>\n",
              "      <th>ID</th>\n",
              "      <th>STORE_NAME</th>\n",
              "      <th>PURCHASE_DATE</th>\n",
              "      <th>PURCHASE_TIME</th>\n",
              "      <th>DATE_SCANNED</th>\n",
              "      <th>TOTAL_SPENT</th>\n",
              "      <th>REWARDS_RECEIPT_STATUS</th>\n",
              "      <th>USER_ID</th>\n",
              "      <th>USER_VIEWED</th>\n",
              "      <th>PURCHASED_ITEM_COUNT</th>\n",
              "      <th>...</th>\n",
              "      <th>PENDING_DATE</th>\n",
              "      <th>MODIFY_DATE</th>\n",
              "      <th>FLAGGED_DATE</th>\n",
              "      <th>PROCESSED_DATE</th>\n",
              "      <th>FINISHED_DATE</th>\n",
              "      <th>REJECTED_DATE</th>\n",
              "      <th>NEEDS_FETCH_REVIEW</th>\n",
              "      <th>DIGITAL_RECEIPT</th>\n",
              "      <th>DELETED</th>\n",
              "      <th>NON_POINT_EARNING_RECEIPT</th>\n",
              "    </tr>\n",
              "  </thead>\n",
              "  <tbody>\n",
              "    <tr>\n",
              "      <th>0</th>\n",
              "      <td>62868f660a72546bef0b2dd0</td>\n",
              "      <td>TOWN OF ROCKY MOUNT</td>\n",
              "      <td>2022-05-19T00:00:00Z</td>\n",
              "      <td>2:05 PM</td>\n",
              "      <td>2022-05-19T18:41:42.53Z</td>\n",
              "      <td>859.87</td>\n",
              "      <td>FINISHED</td>\n",
              "      <td>61375682c625197c5db73602</td>\n",
              "      <td>True</td>\n",
              "      <td>1.0</td>\n",
              "      <td>...</td>\n",
              "      <td>2022-05-19T18:57:57.228Z</td>\n",
              "      <td>2022-05-22T11:20:57.998Z</td>\n",
              "      <td>2022-05-19T18:42:57.042Z</td>\n",
              "      <td>NaN</td>\n",
              "      <td>2022-05-19T18:57:57.336Z</td>\n",
              "      <td>NaN</td>\n",
              "      <td>NaN</td>\n",
              "      <td>False</td>\n",
              "      <td>NaN</td>\n",
              "      <td>True</td>\n",
              "    </tr>\n",
              "    <tr>\n",
              "      <th>1</th>\n",
              "      <td>6096b7370a7216d316001149</td>\n",
              "      <td>NaN</td>\n",
              "      <td>NaN</td>\n",
              "      <td>NaN</td>\n",
              "      <td>2021-05-08T16:07:19.03Z</td>\n",
              "      <td>NaN</td>\n",
              "      <td>SUBMITTED</td>\n",
              "      <td>60047e8a2d7db612a69d2e18</td>\n",
              "      <td>True</td>\n",
              "      <td>NaN</td>\n",
              "      <td>...</td>\n",
              "      <td>NaN</td>\n",
              "      <td>2021-05-08T16:07:19.03Z</td>\n",
              "      <td>NaN</td>\n",
              "      <td>NaN</td>\n",
              "      <td>NaN</td>\n",
              "      <td>NaN</td>\n",
              "      <td>NaN</td>\n",
              "      <td>False</td>\n",
              "      <td>NaN</td>\n",
              "      <td>NaN</td>\n",
              "    </tr>\n",
              "    <tr>\n",
              "      <th>2</th>\n",
              "      <td>6269a4ea0a7241077408b6e1</td>\n",
              "      <td>FAMILY DOLLAR</td>\n",
              "      <td>2022-04-27T00:00:00Z</td>\n",
              "      <td>4:15 PM</td>\n",
              "      <td>2022-04-27T20:17:46.09Z</td>\n",
              "      <td>11.00</td>\n",
              "      <td>FINISHED</td>\n",
              "      <td>61578e96c2fb9321213720fc</td>\n",
              "      <td>True</td>\n",
              "      <td>2.0</td>\n",
              "      <td>...</td>\n",
              "      <td>2022-04-27T20:17:54.214Z</td>\n",
              "      <td>2022-04-27T20:17:55.521Z</td>\n",
              "      <td>NaN</td>\n",
              "      <td>NaN</td>\n",
              "      <td>2022-04-27T20:17:54.394Z</td>\n",
              "      <td>NaN</td>\n",
              "      <td>NaN</td>\n",
              "      <td>False</td>\n",
              "      <td>NaN</td>\n",
              "      <td>False</td>\n",
              "    </tr>\n",
              "    <tr>\n",
              "      <th>3</th>\n",
              "      <td>625b25e70a723eb9730d2c9c</td>\n",
              "      <td>PUBLIX</td>\n",
              "      <td>2022-04-15T00:00:00Z</td>\n",
              "      <td>4:45 PM</td>\n",
              "      <td>2022-04-16T20:24:07.259Z</td>\n",
              "      <td>10.67</td>\n",
              "      <td>FINISHED</td>\n",
              "      <td>6048de2ec9106b12d2b1ff61</td>\n",
              "      <td>True</td>\n",
              "      <td>4.0</td>\n",
              "      <td>...</td>\n",
              "      <td>2022-04-16T20:24:23.399Z</td>\n",
              "      <td>2022-04-16T20:24:24.064Z</td>\n",
              "      <td>NaN</td>\n",
              "      <td>NaN</td>\n",
              "      <td>2022-04-16T20:24:23.598Z</td>\n",
              "      <td>NaN</td>\n",
              "      <td>NaN</td>\n",
              "      <td>False</td>\n",
              "      <td>NaN</td>\n",
              "      <td>False</td>\n",
              "    </tr>\n",
              "    <tr>\n",
              "      <th>4</th>\n",
              "      <td>60e3bd7e0a7215bd550fb8cc</td>\n",
              "      <td>COSTCO</td>\n",
              "      <td>2021-06-30T00:00:00Z</td>\n",
              "      <td>1:16 PM</td>\n",
              "      <td>2021-07-06T02:18:38.495Z</td>\n",
              "      <td>61.90</td>\n",
              "      <td>FINISHED</td>\n",
              "      <td>6048de2ec9106b12d2b1ff61</td>\n",
              "      <td>True</td>\n",
              "      <td>10.0</td>\n",
              "      <td>...</td>\n",
              "      <td>2021-07-06T02:18:49.55Z</td>\n",
              "      <td>2021-07-06T02:18:51.906Z</td>\n",
              "      <td>NaN</td>\n",
              "      <td>NaN</td>\n",
              "      <td>2021-07-06T02:18:50.283Z</td>\n",
              "      <td>NaN</td>\n",
              "      <td>NaN</td>\n",
              "      <td>False</td>\n",
              "      <td>NaN</td>\n",
              "      <td>False</td>\n",
              "    </tr>\n",
              "  </tbody>\n",
              "</table>\n",
              "<p>5 rows × 21 columns</p>\n",
              "</div>\n",
              "      <button class=\"colab-df-convert\" onclick=\"convertToInteractive('df-0709ce79-32db-469d-bc09-467d8b285a8d')\"\n",
              "              title=\"Convert this dataframe to an interactive table.\"\n",
              "              style=\"display:none;\">\n",
              "        \n",
              "  <svg xmlns=\"http://www.w3.org/2000/svg\" height=\"24px\"viewBox=\"0 0 24 24\"\n",
              "       width=\"24px\">\n",
              "    <path d=\"M0 0h24v24H0V0z\" fill=\"none\"/>\n",
              "    <path d=\"M18.56 5.44l.94 2.06.94-2.06 2.06-.94-2.06-.94-.94-2.06-.94 2.06-2.06.94zm-11 1L8.5 8.5l.94-2.06 2.06-.94-2.06-.94L8.5 2.5l-.94 2.06-2.06.94zm10 10l.94 2.06.94-2.06 2.06-.94-2.06-.94-.94-2.06-.94 2.06-2.06.94z\"/><path d=\"M17.41 7.96l-1.37-1.37c-.4-.4-.92-.59-1.43-.59-.52 0-1.04.2-1.43.59L10.3 9.45l-7.72 7.72c-.78.78-.78 2.05 0 2.83L4 21.41c.39.39.9.59 1.41.59.51 0 1.02-.2 1.41-.59l7.78-7.78 2.81-2.81c.8-.78.8-2.07 0-2.86zM5.41 20L4 18.59l7.72-7.72 1.47 1.35L5.41 20z\"/>\n",
              "  </svg>\n",
              "      </button>\n",
              "      \n",
              "  <style>\n",
              "    .colab-df-container {\n",
              "      display:flex;\n",
              "      flex-wrap:wrap;\n",
              "      gap: 12px;\n",
              "    }\n",
              "\n",
              "    .colab-df-convert {\n",
              "      background-color: #E8F0FE;\n",
              "      border: none;\n",
              "      border-radius: 50%;\n",
              "      cursor: pointer;\n",
              "      display: none;\n",
              "      fill: #1967D2;\n",
              "      height: 32px;\n",
              "      padding: 0 0 0 0;\n",
              "      width: 32px;\n",
              "    }\n",
              "\n",
              "    .colab-df-convert:hover {\n",
              "      background-color: #E2EBFA;\n",
              "      box-shadow: 0px 1px 2px rgba(60, 64, 67, 0.3), 0px 1px 3px 1px rgba(60, 64, 67, 0.15);\n",
              "      fill: #174EA6;\n",
              "    }\n",
              "\n",
              "    [theme=dark] .colab-df-convert {\n",
              "      background-color: #3B4455;\n",
              "      fill: #D2E3FC;\n",
              "    }\n",
              "\n",
              "    [theme=dark] .colab-df-convert:hover {\n",
              "      background-color: #434B5C;\n",
              "      box-shadow: 0px 1px 3px 1px rgba(0, 0, 0, 0.15);\n",
              "      filter: drop-shadow(0px 1px 2px rgba(0, 0, 0, 0.3));\n",
              "      fill: #FFFFFF;\n",
              "    }\n",
              "  </style>\n",
              "\n",
              "      <script>\n",
              "        const buttonEl =\n",
              "          document.querySelector('#df-0709ce79-32db-469d-bc09-467d8b285a8d button.colab-df-convert');\n",
              "        buttonEl.style.display =\n",
              "          google.colab.kernel.accessAllowed ? 'block' : 'none';\n",
              "\n",
              "        async function convertToInteractive(key) {\n",
              "          const element = document.querySelector('#df-0709ce79-32db-469d-bc09-467d8b285a8d');\n",
              "          const dataTable =\n",
              "            await google.colab.kernel.invokeFunction('convertToInteractive',\n",
              "                                                     [key], {});\n",
              "          if (!dataTable) return;\n",
              "\n",
              "          const docLinkHtml = 'Like what you see? Visit the ' +\n",
              "            '<a target=\"_blank\" href=https://colab.research.google.com/notebooks/data_table.ipynb>data table notebook</a>'\n",
              "            + ' to learn more about interactive tables.';\n",
              "          element.innerHTML = '';\n",
              "          dataTable['output_type'] = 'display_data';\n",
              "          await google.colab.output.renderOutput(dataTable, element);\n",
              "          const docLink = document.createElement('div');\n",
              "          docLink.innerHTML = docLinkHtml;\n",
              "          element.appendChild(docLink);\n",
              "        }\n",
              "      </script>\n",
              "    </div>\n",
              "  </div>\n",
              "  "
            ]
          },
          "metadata": {},
          "execution_count": 163
        }
      ]
    },
    {
      "cell_type": "code",
      "source": [
        "receipts.dtypes"
      ],
      "metadata": {
        "colab": {
          "base_uri": "https://localhost:8080/"
        },
        "outputId": "bb709e45-4ca1-4795-d22d-c9cc200dcb96",
        "id": "HsDHOXYdA6Qb"
      },
      "execution_count": 164,
      "outputs": [
        {
          "output_type": "execute_result",
          "data": {
            "text/plain": [
              "ID                            object\n",
              "STORE_NAME                    object\n",
              "PURCHASE_DATE                 object\n",
              "PURCHASE_TIME                 object\n",
              "DATE_SCANNED                  object\n",
              "TOTAL_SPENT                  float64\n",
              "REWARDS_RECEIPT_STATUS        object\n",
              "USER_ID                       object\n",
              "USER_VIEWED                   object\n",
              "PURCHASED_ITEM_COUNT         float64\n",
              "CREATE_DATE                   object\n",
              "PENDING_DATE                  object\n",
              "MODIFY_DATE                   object\n",
              "FLAGGED_DATE                  object\n",
              "PROCESSED_DATE               float64\n",
              "FINISHED_DATE                 object\n",
              "REJECTED_DATE                 object\n",
              "NEEDS_FETCH_REVIEW            object\n",
              "DIGITAL_RECEIPT                 bool\n",
              "DELETED                       object\n",
              "NON_POINT_EARNING_RECEIPT     object\n",
              "dtype: object"
            ]
          },
          "metadata": {},
          "execution_count": 164
        }
      ]
    },
    {
      "cell_type": "code",
      "source": [
        "receipts.isna().sum()"
      ],
      "metadata": {
        "colab": {
          "base_uri": "https://localhost:8080/"
        },
        "outputId": "ef4187c1-ec54-43d7-84b3-ecaa4d6ab392",
        "id": "HwNwi51DA6Qc"
      },
      "execution_count": 165,
      "outputs": [
        {
          "output_type": "execute_result",
          "data": {
            "text/plain": [
              "ID                               0\n",
              "STORE_NAME                    1836\n",
              "PURCHASE_DATE                 2066\n",
              "PURCHASE_TIME                 4947\n",
              "DATE_SCANNED                     0\n",
              "TOTAL_SPENT                   1492\n",
              "REWARDS_RECEIPT_STATUS           0\n",
              "USER_ID                          0\n",
              "USER_VIEWED                   6465\n",
              "PURCHASED_ITEM_COUNT          1452\n",
              "CREATE_DATE                      0\n",
              "PENDING_DATE                  1453\n",
              "MODIFY_DATE                      2\n",
              "FLAGGED_DATE                 66576\n",
              "PROCESSED_DATE               70601\n",
              "FINISHED_DATE                 6252\n",
              "REJECTED_DATE                66217\n",
              "NEEDS_FETCH_REVIEW           70276\n",
              "DIGITAL_RECEIPT                  0\n",
              "DELETED                      69733\n",
              "NON_POINT_EARNING_RECEIPT     8986\n",
              "dtype: int64"
            ]
          },
          "metadata": {},
          "execution_count": 165
        }
      ]
    },
    {
      "cell_type": "code",
      "source": [
        "receipt_items.head(5)"
      ],
      "metadata": {
        "colab": {
          "base_uri": "https://localhost:8080/",
          "height": 391
        },
        "outputId": "c9b7680e-dc3c-4223-fd9e-0af1bd8df83c",
        "id": "E4sYY6y0A7tS"
      },
      "execution_count": 166,
      "outputs": [
        {
          "output_type": "execute_result",
          "data": {
            "text/plain": [
              "         REWARDS_RECEIPT_ID  ITEM_INDEX           REWARDS_RECEIPT_ITEM_ID  \\\n",
              "0  60bb28c10a720d557b128262           0  1efd6d7c75ecbae32214acb6cda41d12   \n",
              "1  60bb28c10a720d557b128262           1  79482a8fa3bd0eef3d626f1c862042e8   \n",
              "2  627151230a724d730825106a           0  b26669cf4ce90cc9d7d3b0ab588cb04b   \n",
              "3  627151230a724d730825106a           1  b4fafd04d8274a1e95b97155edaade2f   \n",
              "4  627151230a724d730825106a           2  39694b0880b511e8a12bfb76cf2c20f3   \n",
              "\n",
              "                DESCRIPTION       BARCODE BRAND_CODE  QUANTITY_PURCHASED  \\\n",
              "0              RLGULAR SALE           NaN        NaN                 1.0   \n",
              "1         82 GOURMET HOUSEW  000240292012        NaN                 1.0   \n",
              "2  GOLDILOCKS NOPIA R BLAGK           NaN        NaN                 1.0   \n",
              "3    KURI-IRI DORAYAKI CAKE           NaN        NaN                 1.0   \n",
              "4         YIZMANG FISH BALL           NaN        NaN                 1.0   \n",
              "\n",
              "   TOTAL_FINAL_PRICE  POINTS_EARNED REWARDS_GROUP ORIGINAL_RECEIPT_ITEM_TEXT  \\\n",
              "0               9.99            NaN           NaN               RLGULAR SALE   \n",
              "1               4.99            NaN           NaN          82 GOURMET HOUSEW   \n",
              "2               4.75            NaN           NaN   GOLDILOCKS NOPIA R BLAGK   \n",
              "3               5.99            NaN           NaN     KURI-IRI DORAYAKI CAKE   \n",
              "4              12.00            NaN           NaN          YIZMANG FISH BALL   \n",
              "\n",
              "                MODIFY_DATE  \n",
              "0   2021-06-05T07:33:36.91Z  \n",
              "1   2021-06-05T07:33:36.91Z  \n",
              "2  2022-05-03T15:58:41.769Z  \n",
              "3  2022-05-03T15:58:41.769Z  \n",
              "4  2022-05-03T15:58:41.769Z  "
            ],
            "text/html": [
              "\n",
              "  <div id=\"df-d0a13167-dea6-4c4c-8731-ee8bd4bb9cc0\">\n",
              "    <div class=\"colab-df-container\">\n",
              "      <div>\n",
              "<style scoped>\n",
              "    .dataframe tbody tr th:only-of-type {\n",
              "        vertical-align: middle;\n",
              "    }\n",
              "\n",
              "    .dataframe tbody tr th {\n",
              "        vertical-align: top;\n",
              "    }\n",
              "\n",
              "    .dataframe thead th {\n",
              "        text-align: right;\n",
              "    }\n",
              "</style>\n",
              "<table border=\"1\" class=\"dataframe\">\n",
              "  <thead>\n",
              "    <tr style=\"text-align: right;\">\n",
              "      <th></th>\n",
              "      <th>REWARDS_RECEIPT_ID</th>\n",
              "      <th>ITEM_INDEX</th>\n",
              "      <th>REWARDS_RECEIPT_ITEM_ID</th>\n",
              "      <th>DESCRIPTION</th>\n",
              "      <th>BARCODE</th>\n",
              "      <th>BRAND_CODE</th>\n",
              "      <th>QUANTITY_PURCHASED</th>\n",
              "      <th>TOTAL_FINAL_PRICE</th>\n",
              "      <th>POINTS_EARNED</th>\n",
              "      <th>REWARDS_GROUP</th>\n",
              "      <th>ORIGINAL_RECEIPT_ITEM_TEXT</th>\n",
              "      <th>MODIFY_DATE</th>\n",
              "    </tr>\n",
              "  </thead>\n",
              "  <tbody>\n",
              "    <tr>\n",
              "      <th>0</th>\n",
              "      <td>60bb28c10a720d557b128262</td>\n",
              "      <td>0</td>\n",
              "      <td>1efd6d7c75ecbae32214acb6cda41d12</td>\n",
              "      <td>RLGULAR SALE</td>\n",
              "      <td>NaN</td>\n",
              "      <td>NaN</td>\n",
              "      <td>1.0</td>\n",
              "      <td>9.99</td>\n",
              "      <td>NaN</td>\n",
              "      <td>NaN</td>\n",
              "      <td>RLGULAR SALE</td>\n",
              "      <td>2021-06-05T07:33:36.91Z</td>\n",
              "    </tr>\n",
              "    <tr>\n",
              "      <th>1</th>\n",
              "      <td>60bb28c10a720d557b128262</td>\n",
              "      <td>1</td>\n",
              "      <td>79482a8fa3bd0eef3d626f1c862042e8</td>\n",
              "      <td>82 GOURMET HOUSEW</td>\n",
              "      <td>000240292012</td>\n",
              "      <td>NaN</td>\n",
              "      <td>1.0</td>\n",
              "      <td>4.99</td>\n",
              "      <td>NaN</td>\n",
              "      <td>NaN</td>\n",
              "      <td>82 GOURMET HOUSEW</td>\n",
              "      <td>2021-06-05T07:33:36.91Z</td>\n",
              "    </tr>\n",
              "    <tr>\n",
              "      <th>2</th>\n",
              "      <td>627151230a724d730825106a</td>\n",
              "      <td>0</td>\n",
              "      <td>b26669cf4ce90cc9d7d3b0ab588cb04b</td>\n",
              "      <td>GOLDILOCKS NOPIA R BLAGK</td>\n",
              "      <td>NaN</td>\n",
              "      <td>NaN</td>\n",
              "      <td>1.0</td>\n",
              "      <td>4.75</td>\n",
              "      <td>NaN</td>\n",
              "      <td>NaN</td>\n",
              "      <td>GOLDILOCKS NOPIA R BLAGK</td>\n",
              "      <td>2022-05-03T15:58:41.769Z</td>\n",
              "    </tr>\n",
              "    <tr>\n",
              "      <th>3</th>\n",
              "      <td>627151230a724d730825106a</td>\n",
              "      <td>1</td>\n",
              "      <td>b4fafd04d8274a1e95b97155edaade2f</td>\n",
              "      <td>KURI-IRI DORAYAKI CAKE</td>\n",
              "      <td>NaN</td>\n",
              "      <td>NaN</td>\n",
              "      <td>1.0</td>\n",
              "      <td>5.99</td>\n",
              "      <td>NaN</td>\n",
              "      <td>NaN</td>\n",
              "      <td>KURI-IRI DORAYAKI CAKE</td>\n",
              "      <td>2022-05-03T15:58:41.769Z</td>\n",
              "    </tr>\n",
              "    <tr>\n",
              "      <th>4</th>\n",
              "      <td>627151230a724d730825106a</td>\n",
              "      <td>2</td>\n",
              "      <td>39694b0880b511e8a12bfb76cf2c20f3</td>\n",
              "      <td>YIZMANG FISH BALL</td>\n",
              "      <td>NaN</td>\n",
              "      <td>NaN</td>\n",
              "      <td>1.0</td>\n",
              "      <td>12.00</td>\n",
              "      <td>NaN</td>\n",
              "      <td>NaN</td>\n",
              "      <td>YIZMANG FISH BALL</td>\n",
              "      <td>2022-05-03T15:58:41.769Z</td>\n",
              "    </tr>\n",
              "  </tbody>\n",
              "</table>\n",
              "</div>\n",
              "      <button class=\"colab-df-convert\" onclick=\"convertToInteractive('df-d0a13167-dea6-4c4c-8731-ee8bd4bb9cc0')\"\n",
              "              title=\"Convert this dataframe to an interactive table.\"\n",
              "              style=\"display:none;\">\n",
              "        \n",
              "  <svg xmlns=\"http://www.w3.org/2000/svg\" height=\"24px\"viewBox=\"0 0 24 24\"\n",
              "       width=\"24px\">\n",
              "    <path d=\"M0 0h24v24H0V0z\" fill=\"none\"/>\n",
              "    <path d=\"M18.56 5.44l.94 2.06.94-2.06 2.06-.94-2.06-.94-.94-2.06-.94 2.06-2.06.94zm-11 1L8.5 8.5l.94-2.06 2.06-.94-2.06-.94L8.5 2.5l-.94 2.06-2.06.94zm10 10l.94 2.06.94-2.06 2.06-.94-2.06-.94-.94-2.06-.94 2.06-2.06.94z\"/><path d=\"M17.41 7.96l-1.37-1.37c-.4-.4-.92-.59-1.43-.59-.52 0-1.04.2-1.43.59L10.3 9.45l-7.72 7.72c-.78.78-.78 2.05 0 2.83L4 21.41c.39.39.9.59 1.41.59.51 0 1.02-.2 1.41-.59l7.78-7.78 2.81-2.81c.8-.78.8-2.07 0-2.86zM5.41 20L4 18.59l7.72-7.72 1.47 1.35L5.41 20z\"/>\n",
              "  </svg>\n",
              "      </button>\n",
              "      \n",
              "  <style>\n",
              "    .colab-df-container {\n",
              "      display:flex;\n",
              "      flex-wrap:wrap;\n",
              "      gap: 12px;\n",
              "    }\n",
              "\n",
              "    .colab-df-convert {\n",
              "      background-color: #E8F0FE;\n",
              "      border: none;\n",
              "      border-radius: 50%;\n",
              "      cursor: pointer;\n",
              "      display: none;\n",
              "      fill: #1967D2;\n",
              "      height: 32px;\n",
              "      padding: 0 0 0 0;\n",
              "      width: 32px;\n",
              "    }\n",
              "\n",
              "    .colab-df-convert:hover {\n",
              "      background-color: #E2EBFA;\n",
              "      box-shadow: 0px 1px 2px rgba(60, 64, 67, 0.3), 0px 1px 3px 1px rgba(60, 64, 67, 0.15);\n",
              "      fill: #174EA6;\n",
              "    }\n",
              "\n",
              "    [theme=dark] .colab-df-convert {\n",
              "      background-color: #3B4455;\n",
              "      fill: #D2E3FC;\n",
              "    }\n",
              "\n",
              "    [theme=dark] .colab-df-convert:hover {\n",
              "      background-color: #434B5C;\n",
              "      box-shadow: 0px 1px 3px 1px rgba(0, 0, 0, 0.15);\n",
              "      filter: drop-shadow(0px 1px 2px rgba(0, 0, 0, 0.3));\n",
              "      fill: #FFFFFF;\n",
              "    }\n",
              "  </style>\n",
              "\n",
              "      <script>\n",
              "        const buttonEl =\n",
              "          document.querySelector('#df-d0a13167-dea6-4c4c-8731-ee8bd4bb9cc0 button.colab-df-convert');\n",
              "        buttonEl.style.display =\n",
              "          google.colab.kernel.accessAllowed ? 'block' : 'none';\n",
              "\n",
              "        async function convertToInteractive(key) {\n",
              "          const element = document.querySelector('#df-d0a13167-dea6-4c4c-8731-ee8bd4bb9cc0');\n",
              "          const dataTable =\n",
              "            await google.colab.kernel.invokeFunction('convertToInteractive',\n",
              "                                                     [key], {});\n",
              "          if (!dataTable) return;\n",
              "\n",
              "          const docLinkHtml = 'Like what you see? Visit the ' +\n",
              "            '<a target=\"_blank\" href=https://colab.research.google.com/notebooks/data_table.ipynb>data table notebook</a>'\n",
              "            + ' to learn more about interactive tables.';\n",
              "          element.innerHTML = '';\n",
              "          dataTable['output_type'] = 'display_data';\n",
              "          await google.colab.output.renderOutput(dataTable, element);\n",
              "          const docLink = document.createElement('div');\n",
              "          docLink.innerHTML = docLinkHtml;\n",
              "          element.appendChild(docLink);\n",
              "        }\n",
              "      </script>\n",
              "    </div>\n",
              "  </div>\n",
              "  "
            ]
          },
          "metadata": {},
          "execution_count": 166
        }
      ]
    },
    {
      "cell_type": "code",
      "source": [
        "receipt_items.dtypes"
      ],
      "metadata": {
        "colab": {
          "base_uri": "https://localhost:8080/"
        },
        "outputId": "2f74aa64-5360-43d5-e9b2-50a78a56b39d",
        "id": "ZL2sK2gtA7tT"
      },
      "execution_count": 167,
      "outputs": [
        {
          "output_type": "execute_result",
          "data": {
            "text/plain": [
              "REWARDS_RECEIPT_ID             object\n",
              "ITEM_INDEX                      int64\n",
              "REWARDS_RECEIPT_ITEM_ID        object\n",
              "DESCRIPTION                    object\n",
              "BARCODE                        object\n",
              "BRAND_CODE                     object\n",
              "QUANTITY_PURCHASED            float64\n",
              "TOTAL_FINAL_PRICE             float64\n",
              "POINTS_EARNED                 float64\n",
              "REWARDS_GROUP                  object\n",
              "ORIGINAL_RECEIPT_ITEM_TEXT     object\n",
              "MODIFY_DATE                    object\n",
              "dtype: object"
            ]
          },
          "metadata": {},
          "execution_count": 167
        }
      ]
    },
    {
      "cell_type": "code",
      "source": [
        "receipt_items.isna().sum()"
      ],
      "metadata": {
        "colab": {
          "base_uri": "https://localhost:8080/"
        },
        "outputId": "4e13df41-4e59-4c29-fd26-be8ff8adf9eb",
        "id": "K79ZuEUbA7tU"
      },
      "execution_count": 168,
      "outputs": [
        {
          "output_type": "execute_result",
          "data": {
            "text/plain": [
              "REWARDS_RECEIPT_ID                 0\n",
              "ITEM_INDEX                         0\n",
              "REWARDS_RECEIPT_ITEM_ID            0\n",
              "DESCRIPTION                     1091\n",
              "BARCODE                       135369\n",
              "BRAND_CODE                    205490\n",
              "QUANTITY_PURCHASED              7756\n",
              "TOTAL_FINAL_PRICE                692\n",
              "POINTS_EARNED                 341425\n",
              "REWARDS_GROUP                 298440\n",
              "ORIGINAL_RECEIPT_ITEM_TEXT      1681\n",
              "MODIFY_DATE                        0\n",
              "dtype: int64"
            ]
          },
          "metadata": {},
          "execution_count": 168
        }
      ]
    },
    {
      "cell_type": "code",
      "source": [
        "print(receipt_items.BARCODE.isna().sum()*100/receipt_items.shape[0])\n",
        "print(receipt_items.BRAND_CODE.isna().sum()*100/receipt_items.shape[0])"
      ],
      "metadata": {
        "colab": {
          "base_uri": "https://localhost:8080/"
        },
        "id": "CDbIK2ZRBOOc",
        "outputId": "7ab707ed-5c14-4a1b-bed8-0c60ddc054a6"
      },
      "execution_count": 169,
      "outputs": [
        {
          "output_type": "stream",
          "name": "stdout",
          "text": [
            "37.563163020947506\n",
            "57.02084206261776\n"
          ]
        }
      ]
    },
    {
      "cell_type": "markdown",
      "source": [
        "Almost 37 percent of the barcode data and 57 percent of the brand_code data is not present in the given data set. Action can be taken in to improve the efficiency of data collection."
      ],
      "metadata": {
        "id": "WyfBj6f3Bbh1"
      }
    },
    {
      "cell_type": "markdown",
      "source": [
        "##Data Quality Issues"
      ],
      "metadata": {
        "id": "Lf9cSE9C9cWg"
      }
    },
    {
      "cell_type": "markdown",
      "source": [
        "Reviewing the data files, it can be identified that the barcode and brand_code varies in the users and receipt_items files."
      ],
      "metadata": {
        "id": "1j9UAr319fc-"
      }
    },
    {
      "cell_type": "code",
      "source": [
        "list(set(list(brands.BARCODE.unique())) - set(list(receipt_items.BARCODE.unique()))) == []"
      ],
      "metadata": {
        "colab": {
          "base_uri": "https://localhost:8080/"
        },
        "id": "sI1W_11gAZvD",
        "outputId": "3075c4ba-a18f-4466-eea6-a5f8eeff4cd3"
      },
      "execution_count": 170,
      "outputs": [
        {
          "output_type": "execute_result",
          "data": {
            "text/plain": [
              "False"
            ]
          },
          "metadata": {},
          "execution_count": 170
        }
      ]
    },
    {
      "cell_type": "code",
      "source": [
        "list(set(list(brands.BRAND_CODE.unique())) - set(list(receipt_items.BRAND_CODE.unique()))) == []"
      ],
      "metadata": {
        "colab": {
          "base_uri": "https://localhost:8080/"
        },
        "id": "GWyQh3iiFMth",
        "outputId": "d67a51f8-d797-4560-bf41-b529656240e7"
      },
      "execution_count": 171,
      "outputs": [
        {
          "output_type": "execute_result",
          "data": {
            "text/plain": [
              "False"
            ]
          },
          "metadata": {},
          "execution_count": 171
        }
      ]
    },
    {
      "cell_type": "markdown",
      "source": [
        "When studying the values of BARCODE and BRAND_CODE present in both receipt_items and brands, it can be identified that the barcode and brand_code values vary in the users and receipt_items files while also having common values. Creating a standard convention for the barcode and the brandcode can be more beneficial in analysing how a brand is performing by joining the two tables on these two attributes."
      ],
      "metadata": {
        "id": "tT5BE7NvEXod"
      }
    },
    {
      "cell_type": "markdown",
      "source": [
        "##Formatting"
      ],
      "metadata": {
        "id": "T5dFdfyM-9fs"
      }
    },
    {
      "cell_type": "markdown",
      "source": [
        "1. Attributes with True or False value can be typecasted as bool instead of an Object.\n",
        "\n",
        "2. Certain potential float values are also of the format Object.\n",
        "\n",
        "3. Date is in the ISO 8601 format. (Can be formatted to process more easily)"
      ],
      "metadata": {
        "id": "xvPcjHHZEl_6"
      }
    },
    {
      "cell_type": "markdown",
      "source": [
        "#A Case Study on Starbucks"
      ],
      "metadata": {
        "id": "PrQweAmQ-63p"
      }
    },
    {
      "cell_type": "code",
      "source": [
        "receipt_items.columns"
      ],
      "metadata": {
        "colab": {
          "base_uri": "https://localhost:8080/"
        },
        "id": "H6wEN6CxIZxC",
        "outputId": "bf217ea1-3cf1-4402-f7e2-d0b6b27f780b"
      },
      "execution_count": 172,
      "outputs": [
        {
          "output_type": "execute_result",
          "data": {
            "text/plain": [
              "Index(['REWARDS_RECEIPT_ID', 'ITEM_INDEX', 'REWARDS_RECEIPT_ITEM_ID',\n",
              "       'DESCRIPTION', 'BARCODE', 'BRAND_CODE', 'QUANTITY_PURCHASED',\n",
              "       'TOTAL_FINAL_PRICE', 'POINTS_EARNED', 'REWARDS_GROUP',\n",
              "       'ORIGINAL_RECEIPT_ITEM_TEXT', 'MODIFY_DATE'],\n",
              "      dtype='object')"
            ]
          },
          "metadata": {},
          "execution_count": 172
        }
      ]
    },
    {
      "cell_type": "code",
      "source": [
        "#formatting date\n",
        "receipt_items.MODIFY_DATE = pd.to_datetime(receipt_items.MODIFY_DATE)\n",
        "receipt_items.MODIFY_DATE = receipt_items.MODIFY_DATE.dt.date"
      ],
      "metadata": {
        "id": "X9fw9IbEOyX1"
      },
      "execution_count": 173,
      "outputs": []
    },
    {
      "cell_type": "code",
      "source": [
        "receipt_items.groupby(\"BRAND_CODE\").POINTS_EARNED.sum().sort_values(ascending = False).head(5)"
      ],
      "metadata": {
        "colab": {
          "base_uri": "https://localhost:8080/"
        },
        "id": "o3STT6waIWqs",
        "outputId": "6c5f2540-fc7a-4124-b15c-ef113fa14511"
      },
      "execution_count": 174,
      "outputs": [
        {
          "output_type": "execute_result",
          "data": {
            "text/plain": [
              "BRAND_CODE\n",
              "STARBUCKS      633953.8\n",
              "SCOTT           47205.0\n",
              "PEPSI           44772.7\n",
              "COORS LIGHT     41281.2\n",
              "GATORADE        38652.1\n",
              "Name: POINTS_EARNED, dtype: float64"
            ]
          },
          "metadata": {},
          "execution_count": 174
        }
      ]
    },
    {
      "cell_type": "code",
      "source": [
        "receipt_items.groupby('BRAND_CODE').TOTAL_FINAL_PRICE.sum().sort_values(ascending = False).head(5)"
      ],
      "metadata": {
        "colab": {
          "base_uri": "https://localhost:8080/"
        },
        "id": "0VnmPo-oIkDT",
        "outputId": "d2390f17-4a4f-482b-d10a-9f1b275fdff4"
      },
      "execution_count": 175,
      "outputs": [
        {
          "output_type": "execute_result",
          "data": {
            "text/plain": [
              "BRAND_CODE\n",
              "STARBUCKS             64715.82\n",
              "FRESH                 62568.76\n",
              "KIRKLAND SIGNATURE    22221.71\n",
              "GREAT VALUE           19669.38\n",
              "MEMBER'S MARK         11303.68\n",
              "Name: TOTAL_FINAL_PRICE, dtype: float64"
            ]
          },
          "metadata": {},
          "execution_count": 175
        }
      ]
    },
    {
      "cell_type": "markdown",
      "source": [
        "Starbucks was the brand that had the most sales and the most reward points in the provided dataset. "
      ],
      "metadata": {
        "id": "Eu6fX0TeUIvj"
      }
    },
    {
      "cell_type": "code",
      "source": [
        "sb = receipt_items[receipt_items.BRAND_CODE==\"STARBUCKS\"]\n",
        "sb.head(5)"
      ],
      "metadata": {
        "colab": {
          "base_uri": "https://localhost:8080/",
          "height": 547
        },
        "id": "b1y1VXDHLhy4",
        "outputId": "2dc6120d-3da3-4c61-e938-79cd36690440"
      },
      "execution_count": 176,
      "outputs": [
        {
          "output_type": "execute_result",
          "data": {
            "text/plain": [
              "            REWARDS_RECEIPT_ID  ITEM_INDEX           REWARDS_RECEIPT_ITEM_ID  \\\n",
              "1033  62f931440a724dbd7f179d29           1  b2b735e38bd73a05bc93aabe438f58c8   \n",
              "1057  625812f30a723eb97301bc66           0  914448fc82b5e2ccd00b3d21b481e418   \n",
              "2630  61f165720a72327cb48af68c           0  26b1f10412de1210153346a164100c0c   \n",
              "2790  61fc974f0a725a79b0ab6db3          20  9eead01a189033c01d8027a206c1986f   \n",
              "3448  62f13e9e0a72369e3e150479           5  45e7da13031e1fa1358f3c7b69aaa05f   \n",
              "\n",
              "                                            DESCRIPTION       BARCODE  \\\n",
              "1033  Starbucks Frappuccino Chilled Coffee Drink Moc...  012000006494   \n",
              "1057  Starbucks Doubleshot Coffee And Protein Vanill...  012000044953   \n",
              "2630  Starbucks Frappuccino Chilled Coffee Drink Van...  012000813313   \n",
              "2790  Starbucks Frappuccino Chilled Coffee Drink Car...  012000016721   \n",
              "3448       Starbucks Baya Energy Mango Guava 12 Oz 1 Ct  012000212048   \n",
              "\n",
              "     BRAND_CODE  QUANTITY_PURCHASED  TOTAL_FINAL_PRICE  POINTS_EARNED  \\\n",
              "1033  STARBUCKS                 1.0               1.99           19.9   \n",
              "1057  STARBUCKS                 1.0               3.39           33.9   \n",
              "2630  STARBUCKS                 1.0               2.80           28.0   \n",
              "2790  STARBUCKS                 1.0               3.69           36.9   \n",
              "3448  STARBUCKS                 1.0               2.38           23.8   \n",
              "\n",
              "                                REWARDS_GROUP     ORIGINAL_RECEIPT_ITEM_TEXT  \\\n",
              "1033  STARBUCKS 20 OZ OR SMALLER SINGLE SERVE   STARBUCKS COFFEE MOCHA 9.50Z   \n",
              "1057  STARBUCKS 20 OZ OR SMALLER SINGLE SERVE       STARBUCKS DBLSHOT VANILL   \n",
              "2630  STARBUCKS 20 OZ OR SMALLER SINGLE SERVE  STARBUCKS FRAP VANILLA 13.7OZ   \n",
              "2790  STARBUCKS 20 OZ OR SMALLER SINGLE SERVE             FRAPP BUTTER CARAM   \n",
              "3448  STARBUCKS 20 OZ OR SMALLER SINGLE SERVE                    SB BAYA ENG   \n",
              "\n",
              "     MODIFY_DATE  \n",
              "1033  2022-08-14  \n",
              "1057  2022-04-14  \n",
              "2630  2022-01-26  \n",
              "2790  2022-02-04  \n",
              "3448  2022-08-08  "
            ],
            "text/html": [
              "\n",
              "  <div id=\"df-ea92e216-2b8f-44db-8c90-d0e91a178c6b\">\n",
              "    <div class=\"colab-df-container\">\n",
              "      <div>\n",
              "<style scoped>\n",
              "    .dataframe tbody tr th:only-of-type {\n",
              "        vertical-align: middle;\n",
              "    }\n",
              "\n",
              "    .dataframe tbody tr th {\n",
              "        vertical-align: top;\n",
              "    }\n",
              "\n",
              "    .dataframe thead th {\n",
              "        text-align: right;\n",
              "    }\n",
              "</style>\n",
              "<table border=\"1\" class=\"dataframe\">\n",
              "  <thead>\n",
              "    <tr style=\"text-align: right;\">\n",
              "      <th></th>\n",
              "      <th>REWARDS_RECEIPT_ID</th>\n",
              "      <th>ITEM_INDEX</th>\n",
              "      <th>REWARDS_RECEIPT_ITEM_ID</th>\n",
              "      <th>DESCRIPTION</th>\n",
              "      <th>BARCODE</th>\n",
              "      <th>BRAND_CODE</th>\n",
              "      <th>QUANTITY_PURCHASED</th>\n",
              "      <th>TOTAL_FINAL_PRICE</th>\n",
              "      <th>POINTS_EARNED</th>\n",
              "      <th>REWARDS_GROUP</th>\n",
              "      <th>ORIGINAL_RECEIPT_ITEM_TEXT</th>\n",
              "      <th>MODIFY_DATE</th>\n",
              "    </tr>\n",
              "  </thead>\n",
              "  <tbody>\n",
              "    <tr>\n",
              "      <th>1033</th>\n",
              "      <td>62f931440a724dbd7f179d29</td>\n",
              "      <td>1</td>\n",
              "      <td>b2b735e38bd73a05bc93aabe438f58c8</td>\n",
              "      <td>Starbucks Frappuccino Chilled Coffee Drink Moc...</td>\n",
              "      <td>012000006494</td>\n",
              "      <td>STARBUCKS</td>\n",
              "      <td>1.0</td>\n",
              "      <td>1.99</td>\n",
              "      <td>19.9</td>\n",
              "      <td>STARBUCKS 20 OZ OR SMALLER SINGLE SERVE</td>\n",
              "      <td>STARBUCKS COFFEE MOCHA 9.50Z</td>\n",
              "      <td>2022-08-14</td>\n",
              "    </tr>\n",
              "    <tr>\n",
              "      <th>1057</th>\n",
              "      <td>625812f30a723eb97301bc66</td>\n",
              "      <td>0</td>\n",
              "      <td>914448fc82b5e2ccd00b3d21b481e418</td>\n",
              "      <td>Starbucks Doubleshot Coffee And Protein Vanill...</td>\n",
              "      <td>012000044953</td>\n",
              "      <td>STARBUCKS</td>\n",
              "      <td>1.0</td>\n",
              "      <td>3.39</td>\n",
              "      <td>33.9</td>\n",
              "      <td>STARBUCKS 20 OZ OR SMALLER SINGLE SERVE</td>\n",
              "      <td>STARBUCKS DBLSHOT VANILL</td>\n",
              "      <td>2022-04-14</td>\n",
              "    </tr>\n",
              "    <tr>\n",
              "      <th>2630</th>\n",
              "      <td>61f165720a72327cb48af68c</td>\n",
              "      <td>0</td>\n",
              "      <td>26b1f10412de1210153346a164100c0c</td>\n",
              "      <td>Starbucks Frappuccino Chilled Coffee Drink Van...</td>\n",
              "      <td>012000813313</td>\n",
              "      <td>STARBUCKS</td>\n",
              "      <td>1.0</td>\n",
              "      <td>2.80</td>\n",
              "      <td>28.0</td>\n",
              "      <td>STARBUCKS 20 OZ OR SMALLER SINGLE SERVE</td>\n",
              "      <td>STARBUCKS FRAP VANILLA 13.7OZ</td>\n",
              "      <td>2022-01-26</td>\n",
              "    </tr>\n",
              "    <tr>\n",
              "      <th>2790</th>\n",
              "      <td>61fc974f0a725a79b0ab6db3</td>\n",
              "      <td>20</td>\n",
              "      <td>9eead01a189033c01d8027a206c1986f</td>\n",
              "      <td>Starbucks Frappuccino Chilled Coffee Drink Car...</td>\n",
              "      <td>012000016721</td>\n",
              "      <td>STARBUCKS</td>\n",
              "      <td>1.0</td>\n",
              "      <td>3.69</td>\n",
              "      <td>36.9</td>\n",
              "      <td>STARBUCKS 20 OZ OR SMALLER SINGLE SERVE</td>\n",
              "      <td>FRAPP BUTTER CARAM</td>\n",
              "      <td>2022-02-04</td>\n",
              "    </tr>\n",
              "    <tr>\n",
              "      <th>3448</th>\n",
              "      <td>62f13e9e0a72369e3e150479</td>\n",
              "      <td>5</td>\n",
              "      <td>45e7da13031e1fa1358f3c7b69aaa05f</td>\n",
              "      <td>Starbucks Baya Energy Mango Guava 12 Oz 1 Ct</td>\n",
              "      <td>012000212048</td>\n",
              "      <td>STARBUCKS</td>\n",
              "      <td>1.0</td>\n",
              "      <td>2.38</td>\n",
              "      <td>23.8</td>\n",
              "      <td>STARBUCKS 20 OZ OR SMALLER SINGLE SERVE</td>\n",
              "      <td>SB BAYA ENG</td>\n",
              "      <td>2022-08-08</td>\n",
              "    </tr>\n",
              "  </tbody>\n",
              "</table>\n",
              "</div>\n",
              "      <button class=\"colab-df-convert\" onclick=\"convertToInteractive('df-ea92e216-2b8f-44db-8c90-d0e91a178c6b')\"\n",
              "              title=\"Convert this dataframe to an interactive table.\"\n",
              "              style=\"display:none;\">\n",
              "        \n",
              "  <svg xmlns=\"http://www.w3.org/2000/svg\" height=\"24px\"viewBox=\"0 0 24 24\"\n",
              "       width=\"24px\">\n",
              "    <path d=\"M0 0h24v24H0V0z\" fill=\"none\"/>\n",
              "    <path d=\"M18.56 5.44l.94 2.06.94-2.06 2.06-.94-2.06-.94-.94-2.06-.94 2.06-2.06.94zm-11 1L8.5 8.5l.94-2.06 2.06-.94-2.06-.94L8.5 2.5l-.94 2.06-2.06.94zm10 10l.94 2.06.94-2.06 2.06-.94-2.06-.94-.94-2.06-.94 2.06-2.06.94z\"/><path d=\"M17.41 7.96l-1.37-1.37c-.4-.4-.92-.59-1.43-.59-.52 0-1.04.2-1.43.59L10.3 9.45l-7.72 7.72c-.78.78-.78 2.05 0 2.83L4 21.41c.39.39.9.59 1.41.59.51 0 1.02-.2 1.41-.59l7.78-7.78 2.81-2.81c.8-.78.8-2.07 0-2.86zM5.41 20L4 18.59l7.72-7.72 1.47 1.35L5.41 20z\"/>\n",
              "  </svg>\n",
              "      </button>\n",
              "      \n",
              "  <style>\n",
              "    .colab-df-container {\n",
              "      display:flex;\n",
              "      flex-wrap:wrap;\n",
              "      gap: 12px;\n",
              "    }\n",
              "\n",
              "    .colab-df-convert {\n",
              "      background-color: #E8F0FE;\n",
              "      border: none;\n",
              "      border-radius: 50%;\n",
              "      cursor: pointer;\n",
              "      display: none;\n",
              "      fill: #1967D2;\n",
              "      height: 32px;\n",
              "      padding: 0 0 0 0;\n",
              "      width: 32px;\n",
              "    }\n",
              "\n",
              "    .colab-df-convert:hover {\n",
              "      background-color: #E2EBFA;\n",
              "      box-shadow: 0px 1px 2px rgba(60, 64, 67, 0.3), 0px 1px 3px 1px rgba(60, 64, 67, 0.15);\n",
              "      fill: #174EA6;\n",
              "    }\n",
              "\n",
              "    [theme=dark] .colab-df-convert {\n",
              "      background-color: #3B4455;\n",
              "      fill: #D2E3FC;\n",
              "    }\n",
              "\n",
              "    [theme=dark] .colab-df-convert:hover {\n",
              "      background-color: #434B5C;\n",
              "      box-shadow: 0px 1px 3px 1px rgba(0, 0, 0, 0.15);\n",
              "      filter: drop-shadow(0px 1px 2px rgba(0, 0, 0, 0.3));\n",
              "      fill: #FFFFFF;\n",
              "    }\n",
              "  </style>\n",
              "\n",
              "      <script>\n",
              "        const buttonEl =\n",
              "          document.querySelector('#df-ea92e216-2b8f-44db-8c90-d0e91a178c6b button.colab-df-convert');\n",
              "        buttonEl.style.display =\n",
              "          google.colab.kernel.accessAllowed ? 'block' : 'none';\n",
              "\n",
              "        async function convertToInteractive(key) {\n",
              "          const element = document.querySelector('#df-ea92e216-2b8f-44db-8c90-d0e91a178c6b');\n",
              "          const dataTable =\n",
              "            await google.colab.kernel.invokeFunction('convertToInteractive',\n",
              "                                                     [key], {});\n",
              "          if (!dataTable) return;\n",
              "\n",
              "          const docLinkHtml = 'Like what you see? Visit the ' +\n",
              "            '<a target=\"_blank\" href=https://colab.research.google.com/notebooks/data_table.ipynb>data table notebook</a>'\n",
              "            + ' to learn more about interactive tables.';\n",
              "          element.innerHTML = '';\n",
              "          dataTable['output_type'] = 'display_data';\n",
              "          await google.colab.output.renderOutput(dataTable, element);\n",
              "          const docLink = document.createElement('div');\n",
              "          docLink.innerHTML = docLinkHtml;\n",
              "          element.appendChild(docLink);\n",
              "        }\n",
              "      </script>\n",
              "    </div>\n",
              "  </div>\n",
              "  "
            ]
          },
          "metadata": {},
          "execution_count": 176
        }
      ]
    },
    {
      "cell_type": "markdown",
      "source": [
        "**An attempt has been made to analyse the trend in their sales**"
      ],
      "metadata": {
        "id": "J1LDa0dSUlfB"
      }
    },
    {
      "cell_type": "markdown",
      "source": [
        "Initially, sales is observed through the years 2021 and 2022 across all months and a graph was plotted."
      ],
      "metadata": {
        "id": "2ltrhfiuUtaE"
      }
    },
    {
      "cell_type": "code",
      "source": [
        "sb_sales = sb.groupby([pd.DatetimeIndex(sb.MODIFY_DATE).year,pd.DatetimeIndex(sb.MODIFY_DATE).month])['TOTAL_FINAL_PRICE'].sum().to_frame()"
      ],
      "metadata": {
        "id": "_hpKUkIoOYx8"
      },
      "execution_count": 177,
      "outputs": []
    },
    {
      "cell_type": "code",
      "source": [
        "sb_sales = sb_sales.reset_index(level=1).rename(columns={\"MODIFY_DATE\":\"MONTH\",\"TOTAL_FINAL_PRICE\":\"TOTAL_SALES\"}).reset_index().rename(columns={\"MODIFY_DATE\":\"YEAR\"})"
      ],
      "metadata": {
        "id": "7YGnHP_caTGH"
      },
      "execution_count": 178,
      "outputs": []
    },
    {
      "cell_type": "code",
      "source": [
        "sb_sales"
      ],
      "metadata": {
        "colab": {
          "base_uri": "https://localhost:8080/",
          "height": 770
        },
        "id": "tM9r9KQuYFX5",
        "outputId": "9e7a2ac6-7599-427e-a4d5-50589ce60209"
      },
      "execution_count": 179,
      "outputs": [
        {
          "output_type": "execute_result",
          "data": {
            "text/plain": [
              "    YEAR  MONTH  TOTAL_SALES\n",
              "0   2021      2         9.27\n",
              "1   2021      3         2.79\n",
              "2   2021      4        60.87\n",
              "3   2021      5       193.48\n",
              "4   2021      6        62.45\n",
              "5   2021      7       104.20\n",
              "6   2021      8        19.04\n",
              "7   2021      9       156.87\n",
              "8   2021     10       101.25\n",
              "9   2021     11       141.39\n",
              "10  2021     12       109.96\n",
              "11  2022      1       147.69\n",
              "12  2022      2       220.27\n",
              "13  2022      3       108.63\n",
              "14  2022      4        78.59\n",
              "15  2022      5        73.11\n",
              "16  2022      6        83.70\n",
              "17  2022      7     62208.17\n",
              "18  2022      8       150.80\n",
              "19  2022      9       250.04\n",
              "20  2022     10       249.15\n",
              "21  2022     11       104.16\n",
              "22  2022     12        79.94"
            ],
            "text/html": [
              "\n",
              "  <div id=\"df-7a797c70-b1ad-428c-b0ee-15bacd9b4305\">\n",
              "    <div class=\"colab-df-container\">\n",
              "      <div>\n",
              "<style scoped>\n",
              "    .dataframe tbody tr th:only-of-type {\n",
              "        vertical-align: middle;\n",
              "    }\n",
              "\n",
              "    .dataframe tbody tr th {\n",
              "        vertical-align: top;\n",
              "    }\n",
              "\n",
              "    .dataframe thead th {\n",
              "        text-align: right;\n",
              "    }\n",
              "</style>\n",
              "<table border=\"1\" class=\"dataframe\">\n",
              "  <thead>\n",
              "    <tr style=\"text-align: right;\">\n",
              "      <th></th>\n",
              "      <th>YEAR</th>\n",
              "      <th>MONTH</th>\n",
              "      <th>TOTAL_SALES</th>\n",
              "    </tr>\n",
              "  </thead>\n",
              "  <tbody>\n",
              "    <tr>\n",
              "      <th>0</th>\n",
              "      <td>2021</td>\n",
              "      <td>2</td>\n",
              "      <td>9.27</td>\n",
              "    </tr>\n",
              "    <tr>\n",
              "      <th>1</th>\n",
              "      <td>2021</td>\n",
              "      <td>3</td>\n",
              "      <td>2.79</td>\n",
              "    </tr>\n",
              "    <tr>\n",
              "      <th>2</th>\n",
              "      <td>2021</td>\n",
              "      <td>4</td>\n",
              "      <td>60.87</td>\n",
              "    </tr>\n",
              "    <tr>\n",
              "      <th>3</th>\n",
              "      <td>2021</td>\n",
              "      <td>5</td>\n",
              "      <td>193.48</td>\n",
              "    </tr>\n",
              "    <tr>\n",
              "      <th>4</th>\n",
              "      <td>2021</td>\n",
              "      <td>6</td>\n",
              "      <td>62.45</td>\n",
              "    </tr>\n",
              "    <tr>\n",
              "      <th>5</th>\n",
              "      <td>2021</td>\n",
              "      <td>7</td>\n",
              "      <td>104.20</td>\n",
              "    </tr>\n",
              "    <tr>\n",
              "      <th>6</th>\n",
              "      <td>2021</td>\n",
              "      <td>8</td>\n",
              "      <td>19.04</td>\n",
              "    </tr>\n",
              "    <tr>\n",
              "      <th>7</th>\n",
              "      <td>2021</td>\n",
              "      <td>9</td>\n",
              "      <td>156.87</td>\n",
              "    </tr>\n",
              "    <tr>\n",
              "      <th>8</th>\n",
              "      <td>2021</td>\n",
              "      <td>10</td>\n",
              "      <td>101.25</td>\n",
              "    </tr>\n",
              "    <tr>\n",
              "      <th>9</th>\n",
              "      <td>2021</td>\n",
              "      <td>11</td>\n",
              "      <td>141.39</td>\n",
              "    </tr>\n",
              "    <tr>\n",
              "      <th>10</th>\n",
              "      <td>2021</td>\n",
              "      <td>12</td>\n",
              "      <td>109.96</td>\n",
              "    </tr>\n",
              "    <tr>\n",
              "      <th>11</th>\n",
              "      <td>2022</td>\n",
              "      <td>1</td>\n",
              "      <td>147.69</td>\n",
              "    </tr>\n",
              "    <tr>\n",
              "      <th>12</th>\n",
              "      <td>2022</td>\n",
              "      <td>2</td>\n",
              "      <td>220.27</td>\n",
              "    </tr>\n",
              "    <tr>\n",
              "      <th>13</th>\n",
              "      <td>2022</td>\n",
              "      <td>3</td>\n",
              "      <td>108.63</td>\n",
              "    </tr>\n",
              "    <tr>\n",
              "      <th>14</th>\n",
              "      <td>2022</td>\n",
              "      <td>4</td>\n",
              "      <td>78.59</td>\n",
              "    </tr>\n",
              "    <tr>\n",
              "      <th>15</th>\n",
              "      <td>2022</td>\n",
              "      <td>5</td>\n",
              "      <td>73.11</td>\n",
              "    </tr>\n",
              "    <tr>\n",
              "      <th>16</th>\n",
              "      <td>2022</td>\n",
              "      <td>6</td>\n",
              "      <td>83.70</td>\n",
              "    </tr>\n",
              "    <tr>\n",
              "      <th>17</th>\n",
              "      <td>2022</td>\n",
              "      <td>7</td>\n",
              "      <td>62208.17</td>\n",
              "    </tr>\n",
              "    <tr>\n",
              "      <th>18</th>\n",
              "      <td>2022</td>\n",
              "      <td>8</td>\n",
              "      <td>150.80</td>\n",
              "    </tr>\n",
              "    <tr>\n",
              "      <th>19</th>\n",
              "      <td>2022</td>\n",
              "      <td>9</td>\n",
              "      <td>250.04</td>\n",
              "    </tr>\n",
              "    <tr>\n",
              "      <th>20</th>\n",
              "      <td>2022</td>\n",
              "      <td>10</td>\n",
              "      <td>249.15</td>\n",
              "    </tr>\n",
              "    <tr>\n",
              "      <th>21</th>\n",
              "      <td>2022</td>\n",
              "      <td>11</td>\n",
              "      <td>104.16</td>\n",
              "    </tr>\n",
              "    <tr>\n",
              "      <th>22</th>\n",
              "      <td>2022</td>\n",
              "      <td>12</td>\n",
              "      <td>79.94</td>\n",
              "    </tr>\n",
              "  </tbody>\n",
              "</table>\n",
              "</div>\n",
              "      <button class=\"colab-df-convert\" onclick=\"convertToInteractive('df-7a797c70-b1ad-428c-b0ee-15bacd9b4305')\"\n",
              "              title=\"Convert this dataframe to an interactive table.\"\n",
              "              style=\"display:none;\">\n",
              "        \n",
              "  <svg xmlns=\"http://www.w3.org/2000/svg\" height=\"24px\"viewBox=\"0 0 24 24\"\n",
              "       width=\"24px\">\n",
              "    <path d=\"M0 0h24v24H0V0z\" fill=\"none\"/>\n",
              "    <path d=\"M18.56 5.44l.94 2.06.94-2.06 2.06-.94-2.06-.94-.94-2.06-.94 2.06-2.06.94zm-11 1L8.5 8.5l.94-2.06 2.06-.94-2.06-.94L8.5 2.5l-.94 2.06-2.06.94zm10 10l.94 2.06.94-2.06 2.06-.94-2.06-.94-.94-2.06-.94 2.06-2.06.94z\"/><path d=\"M17.41 7.96l-1.37-1.37c-.4-.4-.92-.59-1.43-.59-.52 0-1.04.2-1.43.59L10.3 9.45l-7.72 7.72c-.78.78-.78 2.05 0 2.83L4 21.41c.39.39.9.59 1.41.59.51 0 1.02-.2 1.41-.59l7.78-7.78 2.81-2.81c.8-.78.8-2.07 0-2.86zM5.41 20L4 18.59l7.72-7.72 1.47 1.35L5.41 20z\"/>\n",
              "  </svg>\n",
              "      </button>\n",
              "      \n",
              "  <style>\n",
              "    .colab-df-container {\n",
              "      display:flex;\n",
              "      flex-wrap:wrap;\n",
              "      gap: 12px;\n",
              "    }\n",
              "\n",
              "    .colab-df-convert {\n",
              "      background-color: #E8F0FE;\n",
              "      border: none;\n",
              "      border-radius: 50%;\n",
              "      cursor: pointer;\n",
              "      display: none;\n",
              "      fill: #1967D2;\n",
              "      height: 32px;\n",
              "      padding: 0 0 0 0;\n",
              "      width: 32px;\n",
              "    }\n",
              "\n",
              "    .colab-df-convert:hover {\n",
              "      background-color: #E2EBFA;\n",
              "      box-shadow: 0px 1px 2px rgba(60, 64, 67, 0.3), 0px 1px 3px 1px rgba(60, 64, 67, 0.15);\n",
              "      fill: #174EA6;\n",
              "    }\n",
              "\n",
              "    [theme=dark] .colab-df-convert {\n",
              "      background-color: #3B4455;\n",
              "      fill: #D2E3FC;\n",
              "    }\n",
              "\n",
              "    [theme=dark] .colab-df-convert:hover {\n",
              "      background-color: #434B5C;\n",
              "      box-shadow: 0px 1px 3px 1px rgba(0, 0, 0, 0.15);\n",
              "      filter: drop-shadow(0px 1px 2px rgba(0, 0, 0, 0.3));\n",
              "      fill: #FFFFFF;\n",
              "    }\n",
              "  </style>\n",
              "\n",
              "      <script>\n",
              "        const buttonEl =\n",
              "          document.querySelector('#df-7a797c70-b1ad-428c-b0ee-15bacd9b4305 button.colab-df-convert');\n",
              "        buttonEl.style.display =\n",
              "          google.colab.kernel.accessAllowed ? 'block' : 'none';\n",
              "\n",
              "        async function convertToInteractive(key) {\n",
              "          const element = document.querySelector('#df-7a797c70-b1ad-428c-b0ee-15bacd9b4305');\n",
              "          const dataTable =\n",
              "            await google.colab.kernel.invokeFunction('convertToInteractive',\n",
              "                                                     [key], {});\n",
              "          if (!dataTable) return;\n",
              "\n",
              "          const docLinkHtml = 'Like what you see? Visit the ' +\n",
              "            '<a target=\"_blank\" href=https://colab.research.google.com/notebooks/data_table.ipynb>data table notebook</a>'\n",
              "            + ' to learn more about interactive tables.';\n",
              "          element.innerHTML = '';\n",
              "          dataTable['output_type'] = 'display_data';\n",
              "          await google.colab.output.renderOutput(dataTable, element);\n",
              "          const docLink = document.createElement('div');\n",
              "          docLink.innerHTML = docLinkHtml;\n",
              "          element.appendChild(docLink);\n",
              "        }\n",
              "      </script>\n",
              "    </div>\n",
              "  </div>\n",
              "  "
            ]
          },
          "metadata": {},
          "execution_count": 179
        }
      ]
    },
    {
      "cell_type": "code",
      "source": [
        "import seaborn as sns\n",
        "sns.relplot(kind='line', data=sb_sales, x='MONTH', y='TOTAL_SALES', hue='YEAR', aspect=2.5, marker='o')"
      ],
      "metadata": {
        "colab": {
          "base_uri": "https://localhost:8080/",
          "height": 386
        },
        "id": "x6U5-kMzcxCq",
        "outputId": "23b5905a-112b-4b31-b5e4-c68bb4a0aa1e"
      },
      "execution_count": 180,
      "outputs": [
        {
          "output_type": "execute_result",
          "data": {
            "text/plain": [
              "<seaborn.axisgrid.FacetGrid at 0x7f4ed3696cd0>"
            ]
          },
          "metadata": {},
          "execution_count": 180
        },
        {
          "output_type": "display_data",
          "data": {
            "text/plain": [
              "<Figure size 961.375x360 with 1 Axes>"
            ],
            "image/png": "[encoded data removed]"
          },
          "metadata": {
            "needs_background": "light"
          }
        }
      ]
    },
    {
      "cell_type": "markdown",
      "source": [
        "It can be observed from the time series line plot that the sales spiked during July 2022."
      ],
      "metadata": {
        "id": "UcxIgnC5dEh1"
      }
    },
    {
      "cell_type": "markdown",
      "source": [
        "A possible reason for the increase in sales during July 2022 can be due to the 50% off on iced drinks that Starbucks introduced as mentioned in the web article below."
      ],
      "metadata": {
        "id": "Gdv8AZ9PZV0W"
      }
    },
    {
      "cell_type": "markdown",
      "source": [
        "https://www.bestcoffeerecipes.com/starbucks-50-off-iced-drinks-tuesyays-july-2022/\n"
      ],
      "metadata": {
        "id": "_grXJGuPWLZU"
      }
    },
    {
      "cell_type": "markdown",
      "source": [
        "\n",
        "**Insight:**\n",
        "**Using sales transactions data, oraganizations can understand how well their marketing strategies work and can plan their offers accordingly.**"
      ],
      "metadata": {
        "id": "oMU_vQqeZeQP"
      }
    }
  ]
}