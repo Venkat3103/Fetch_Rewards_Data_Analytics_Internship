{
  "nbformat": 4,
  "nbformat_minor": 0,
  "metadata": {
    "colab": {
      "provenance": [],
      "authorship_tag": "ABX9TyM73EAVFrphFi5Uv4Y6Jsvi",
      "include_colab_link": true
    },
    "kernelspec": {
      "name": "python3",
      "display_name": "Python 3"
    },
    "language_info": {
      "name": "python"
    }
  },
  "cells": [
    {
      "cell_type": "markdown",
      "metadata": {
        "id": "view-in-github",
        "colab_type": "text"
      },
      "source": [
        "<a href=\"https://colab.research.google.com/github/Venkat3103/Fetch_Rewards_Data_Analytics_Internship/blob/main/CSV_to_SQL_Fetch_Rewards_Data_Analytics_Take_Home_Assessment.ipynb\" target=\"_parent\"><img src=\"https://colab.research.google.com/assets/colab-badge.svg\" alt=\"Open In Colab\"/></a>"
      ]
    },
    {
      "cell_type": "markdown",
      "source": [
        "#Venkatasubramanian Narasimman - MS in Information Management at UIUC \n",
        "\n",
        "File to convert CSV into sql insert statements"
      ],
      "metadata": {
        "id": "B6RsqbHMRUpc"
      }
    },
    {
      "cell_type": "code",
      "execution_count": 22,
      "metadata": {
        "id": "f_kUWnuXLyJh"
      },
      "outputs": [],
      "source": [
        "import pandas as pd\n",
        "import csv\n",
        "import os"
      ]
    },
    {
      "cell_type": "code",
      "source": [
        "brands = pd.read_csv(\"/content/brands.csv\")\n",
        "receipt_items = pd.read_csv(\"/content/receipt_items.csv\")\n",
        "receipts = pd.read_csv(\"/content/receipts.csv\")\n",
        "users = pd.read_csv(\"/content/users.csv\")"
      ],
      "metadata": {
        "id": "ZerDbVl7McfD"
      },
      "execution_count": 23,
      "outputs": []
    },
    {
      "cell_type": "markdown",
      "source": [
        "Replacing all double quotes in string values in the CSV and converting them to insert statements to feed into MySQL Workbench."
      ],
      "metadata": {
        "id": "mX6UGPbFNvsU"
      }
    },
    {
      "cell_type": "markdown",
      "source": [
        "##Brands"
      ],
      "metadata": {
        "id": "leKrZgkANEiV"
      }
    },
    {
      "cell_type": "code",
      "source": [
        "file = \"brands_insert.txt\"\n",
        "with open(os.path.join('/content/', file), 'w') as fp:\n",
        "    pass"
      ],
      "metadata": {
        "id": "x8ULXDs15c-C"
      },
      "execution_count": 24,
      "outputs": []
    },
    {
      "cell_type": "code",
      "source": [
        "brands.NAME = brands.NAME.replace('\"','',regex=True)\n",
        "brands.ROMANCE_TEXT = brands.ROMANCE_TEXT.replace('\"','',regex=True)"
      ],
      "metadata": {
        "id": "BCw7cUTgDLc_"
      },
      "execution_count": 25,
      "outputs": []
    },
    {
      "cell_type": "code",
      "source": [
        "brands.to_csv(\"brands_cleaned.csv\",index=False)"
      ],
      "metadata": {
        "id": "MVN98TRHP937"
      },
      "execution_count": 26,
      "outputs": []
    },
    {
      "cell_type": "code",
      "source": [
        "file = \"brands_insert.txt\"\n",
        "with open(os.path.join('/content/', file), 'w') as fp:\n",
        "    pass\n",
        "openFile = open('/content/brands_cleaned.csv', 'r')\n",
        "csvFile = csv.reader(openFile)\n",
        "outFile = open('/content/brands_insert.txt','w')\n",
        "header = next(csvFile)\n",
        "headers = map((lambda x: '`'+x+'`'), header)\n",
        "insert = 'INSERT INTO `brands` (' + \", \".join(headers) + \") VALUES \"\n",
        "for row in csvFile:\n",
        "    values = map((lambda x: '\"'+x+'\"'), row)\n",
        "    l = insert +\"(\"+ \", \".join(values) +\");\"+\"\\n\"\n",
        "    outFile.write(l)\n",
        "openFile.close()\n",
        "outFile.close()"
      ],
      "metadata": {
        "id": "2PwuM7uEt-b0"
      },
      "execution_count": 27,
      "outputs": []
    },
    {
      "cell_type": "code",
      "source": [
        "f = open('/content/brands_insert.txt', 'r')\n",
        "file_contents = f.readline()\n",
        "file_contents"
      ],
      "metadata": {
        "id": "qlufLVw87r_W",
        "colab": {
          "base_uri": "https://localhost:8080/",
          "height": 87
        },
        "outputId": "99bda83e-521d-4058-c620-54c85f045906"
      },
      "execution_count": 28,
      "outputs": [
        {
          "output_type": "execute_result",
          "data": {
            "text/plain": [
              "'INSERT INTO `brands` (`ID`, `BARCODE`, `BRAND_CODE`, `CPG_ID`, `CATEGORY`, `CATEGORY_CODE`, `NAME`, `ROMANCE_TEXT`, `RELATED_BRAND_IDS`) VALUES (\"5a8c35dde4b0ccf165fac9e6\", \"511111904175\", \"PEPPERIDGE FARM\", \"5a734034e4b0d58f376be874\", \"Grocery\", \"GROCERY\", \"Pepperidge Farm\", \"Pepperidge Farm has been making exceptional cookies, crackers, breads, and more for over 80 years. Enjoy their wide selection of baked products with every meal and occassion.\", \"\");\\n'"
            ],
            "application/vnd.google.colaboratory.intrinsic+json": {
              "type": "string"
            }
          },
          "metadata": {},
          "execution_count": 28
        }
      ]
    },
    {
      "cell_type": "markdown",
      "source": [
        "##Users:"
      ],
      "metadata": {
        "id": "UnJBPNXrVLeK"
      }
    },
    {
      "cell_type": "code",
      "source": [
        "file = \"users_insert.txt\"\n",
        "with open(os.path.join('/content/', file), 'w') as fp:\n",
        "    pass"
      ],
      "metadata": {
        "id": "AetYy3tGVVtt"
      },
      "execution_count": 29,
      "outputs": []
    },
    {
      "cell_type": "code",
      "source": [
        "file = \"users_insert.txt\"\n",
        "with open(os.path.join('/content/', file), 'w') as fp:\n",
        "    pass\n",
        "\n",
        "openFile = open('/content/users.csv', 'r')\n",
        "csvFile = csv.reader(openFile)\n",
        "outFile = open('/content/users_insert.txt','w')\n",
        "header = next(csvFile)\n",
        "headers = map((lambda x: '`'+x+'`'), header)\n",
        "insert = 'INSERT INTO `users` (' + \", \".join(headers) + \") VALUES \"\n",
        "for row in csvFile:\n",
        "    values = map((lambda x: '\"'+x+'\"'), row)\n",
        "    l = insert +\"(\"+ \", \".join(values) +\");\"+\"\\n\"\n",
        "    outFile.write(l)\n",
        "openFile.close()\n",
        "outFile.close()"
      ],
      "metadata": {
        "id": "RxbXKAgvVak-"
      },
      "execution_count": 30,
      "outputs": []
    },
    {
      "cell_type": "code",
      "source": [
        "f = open('/content/users_insert.txt', 'r')\n",
        "file_contents = f.readline()\n",
        "file_contents"
      ],
      "metadata": {
        "id": "gTIOGWmmVoeT",
        "colab": {
          "base_uri": "https://localhost:8080/",
          "height": 70
        },
        "outputId": "8b3ff644-521d-4b64-cf1a-94d5fe11f7c9"
      },
      "execution_count": 31,
      "outputs": [
        {
          "output_type": "execute_result",
          "data": {
            "text/plain": [
              "'INSERT INTO `users` (`CREATED_DATE`, `BIRTH_DATE`, `GENDER`, `LAST_REWARDS_LOGIN`, `STATE`, `SIGN_UP_PLATFORM`, `SIGN_UP_SOURCE`, `ID`) VALUES (\"2021-12-20T00:29:17.118Z\", \"1984-03-20T00:00:00Z\", \"transgender\", \"2023-01-04T16:32:15Z\", \"FL\", \"\", \"Apple\", \"61bfce5d6655417f803b6538\");\\n'"
            ],
            "application/vnd.google.colaboratory.intrinsic+json": {
              "type": "string"
            }
          },
          "metadata": {},
          "execution_count": 31
        }
      ]
    },
    {
      "cell_type": "markdown",
      "source": [
        "##Receipts:"
      ],
      "metadata": {
        "id": "WYgkF4lvVOL2"
      }
    },
    {
      "cell_type": "code",
      "source": [
        "file = \"receipts_insert.txt\"\n",
        "with open(os.path.join('/content/', file), 'w') as fp:\n",
        "    pass"
      ],
      "metadata": {
        "id": "3oslfFBwWfwu"
      },
      "execution_count": 32,
      "outputs": []
    },
    {
      "cell_type": "code",
      "source": [
        "file = \"receipts_insert.txt\"\n",
        "with open(os.path.join('/content/', file), 'w') as fp:\n",
        "    pass\n",
        "\n",
        "openFile = open('/content/receipts.csv', 'r')\n",
        "csvFile = csv.reader(openFile)\n",
        "outFile = open('/content/receipts_insert.txt','w')\n",
        "header = next(csvFile)\n",
        "headers = map((lambda x: '`'+x+'`'), header)\n",
        "insert = 'INSERT INTO `receipts` (' + \", \".join(headers) + \") VALUES \"\n",
        "for row in csvFile:\n",
        "    values = map((lambda x: '\"'+x+'\"'), row)\n",
        "    l = insert +\"(\"+ \", \".join(values) +\");\"+\"\\n\"\n",
        "    outFile.write(l)\n",
        "openFile.close()\n",
        "outFile.close()"
      ],
      "metadata": {
        "id": "e2zvzR3OWfwu"
      },
      "execution_count": 33,
      "outputs": []
    },
    {
      "cell_type": "code",
      "source": [
        "f = open('/content/receipts_insert.txt', 'r')\n",
        "file_contents = f.readline()\n",
        "file_contents"
      ],
      "metadata": {
        "colab": {
          "base_uri": "https://localhost:8080/",
          "height": 122
        },
        "id": "fd_fNoc6Wfwv",
        "outputId": "c27d43e4-53e5-4fdc-d942-b407c216e7e9"
      },
      "execution_count": 34,
      "outputs": [
        {
          "output_type": "execute_result",
          "data": {
            "text/plain": [
              "'INSERT INTO `receipts` (`ID`, `STORE_NAME`, `PURCHASE_DATE`, `PURCHASE_TIME`, `DATE_SCANNED`, `TOTAL_SPENT`, `REWARDS_RECEIPT_STATUS`, `USER_ID`, `USER_VIEWED`, `PURCHASED_ITEM_COUNT`, `CREATE_DATE`, `PENDING_DATE`, `MODIFY_DATE`, `FLAGGED_DATE`, `PROCESSED_DATE`, `FINISHED_DATE`, `REJECTED_DATE`, `NEEDS_FETCH_REVIEW`, `DIGITAL_RECEIPT`, `DELETED`, `NON_POINT_EARNING_RECEIPT`) VALUES (\"62868f660a72546bef0b2dd0\", \"TOWN OF ROCKY MOUNT\", \"2022-05-19T00:00:00Z\", \"2:05 PM\", \"2022-05-19T18:41:42.53Z\", \"859.87\", \"FINISHED\", \"61375682c625197c5db73602\", \"TRUE\", \"1\", \"2022-05-19T18:41:42.53Z\", \"2022-05-19T18:57:57.228Z\", \"2022-05-22T11:20:57.998Z\", \"2022-05-19T18:42:57.042Z\", \"\", \"2022-05-19T18:57:57.336Z\", \"\", \"\", \"FALSE\", \"\", \"TRUE\");\\n'"
            ],
            "application/vnd.google.colaboratory.intrinsic+json": {
              "type": "string"
            }
          },
          "metadata": {},
          "execution_count": 34
        }
      ]
    },
    {
      "cell_type": "markdown",
      "source": [
        "##Receipt Items:"
      ],
      "metadata": {
        "id": "b9GxltTMVQSL"
      }
    },
    {
      "cell_type": "code",
      "source": [
        "receipt_items.DESCRIPTION = receipt_items.DESCRIPTION.replace('\"','',regex=True)\n",
        "receipt_items.ORIGINAL_RECEIPT_ITEM_TEXT = receipt_items.ORIGINAL_RECEIPT_ITEM_TEXT.replace('\"','',regex=True)"
      ],
      "metadata": {
        "id": "O7MYzUYsZ2Og"
      },
      "execution_count": 35,
      "outputs": []
    },
    {
      "cell_type": "code",
      "source": [
        "receipt_items.to_csv(\"receipt_items_cleaned.csv\",index=False)"
      ],
      "metadata": {
        "id": "XS4beNpTbTpF"
      },
      "execution_count": 36,
      "outputs": []
    },
    {
      "cell_type": "code",
      "source": [
        "import os\n",
        "file = \"receipt_items_insert.txt\"\n",
        "with open(os.path.join('/content/', file), 'w') as fp:\n",
        "    pass"
      ],
      "metadata": {
        "id": "JK8oagT0Xvnv"
      },
      "execution_count": 37,
      "outputs": []
    },
    {
      "cell_type": "code",
      "source": [
        "import csv\n",
        "import os\n",
        "\n",
        "file = \"receipt_items_insert.txt\"\n",
        "with open(os.path.join('/content/', file), 'w') as fp:\n",
        "    pass\n",
        "\n",
        "openFile = open('/content/receipt_items_cleaned.csv', 'r')\n",
        "csvFile = csv.reader(openFile)\n",
        "outFile = open('/content/receipt_items_insert.txt','w')\n",
        "header = next(csvFile)\n",
        "headers = map((lambda x: '`'+x+'`'), header)\n",
        "insert = 'INSERT INTO `receipt_items` (' + \", \".join(headers) + \") VALUES \"\n",
        "for row in csvFile:\n",
        "    values = map((lambda x: '\"'+x+'\"'), row)\n",
        "    l = insert +\"(\"+ \", \".join(values) +\");\"+\"\\n\"\n",
        "    outFile.write(l)\n",
        "openFile.close()\n",
        "outFile.close()"
      ],
      "metadata": {
        "id": "OlirOlPmXvnv"
      },
      "execution_count": 38,
      "outputs": []
    },
    {
      "cell_type": "code",
      "source": [
        "f = open('/content/receipt_items_insert.txt', 'r')\n",
        "file_contents = f.readline()\n",
        "file_contents"
      ],
      "metadata": {
        "colab": {
          "base_uri": "https://localhost:8080/",
          "height": 87
        },
        "outputId": "994f13a3-d24c-4f14-ba05-ce8acabc4b82",
        "id": "2vcaFb71Xvnv"
      },
      "execution_count": 39,
      "outputs": [
        {
          "output_type": "execute_result",
          "data": {
            "text/plain": [
              "'INSERT INTO `receipt_items` (`REWARDS_RECEIPT_ID`, `ITEM_INDEX`, `REWARDS_RECEIPT_ITEM_ID`, `DESCRIPTION`, `BARCODE`, `BRAND_CODE`, `QUANTITY_PURCHASED`, `TOTAL_FINAL_PRICE`, `POINTS_EARNED`, `REWARDS_GROUP`, `ORIGINAL_RECEIPT_ITEM_TEXT`, `MODIFY_DATE`) VALUES (\"60bb28c10a720d557b128262\", \"0\", \"1efd6d7c75ecbae32214acb6cda41d12\", \"RLGULAR SALE\", \"\", \"\", \"1.0\", \"9.99\", \"\", \"\", \"RLGULAR SALE\", \"2021-06-05T07:33:36.91Z\");\\n'"
            ],
            "application/vnd.google.colaboratory.intrinsic+json": {
              "type": "string"
            }
          },
          "metadata": {},
          "execution_count": 39
        }
      ]
    }
  ]
}